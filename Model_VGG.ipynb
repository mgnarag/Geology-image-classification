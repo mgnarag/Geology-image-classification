{
  "nbformat": 4,
  "nbformat_minor": 0,
  "metadata": {
    "colab": {
      "provenance": [],
      "include_colab_link": true
    },
    "kernelspec": {
      "name": "python3",
      "display_name": "Python 3"
    },
    "language_info": {
      "name": "python"
    },
    "accelerator": "GPU"
  },
  "cells": [
    {
      "cell_type": "markdown",
      "metadata": {
        "id": "view-in-github",
        "colab_type": "text"
      },
      "source": [
        "<a href=\"https://colab.research.google.com/github/mgnarag/Geology-image-classification/blob/main/Model_VGG.ipynb\" target=\"_parent\"><img src=\"https://colab.research.google.com/assets/colab-badge.svg\" alt=\"Open In Colab\"/></a>"
      ]
    },
    {
      "cell_type": "code",
      "metadata": {
        "id": "TARO4TgEEggU"
      },
      "source": [
        "import torch\n",
        "import torchvision\n",
        "import torchvision.transforms as transforms"
      ],
      "execution_count": 12,
      "outputs": []
    },
    {
      "cell_type": "code",
      "metadata": {
        "colab": {
          "base_uri": "https://localhost:8080/"
        },
        "id": "q953voK6EvI8",
        "outputId": "4e317d6c-6a4e-491b-aa74-f074e5d435e1"
      },
      "source": [
        "from google.colab import drive\n",
        "drive.mount(\"/content/drive\")"
      ],
      "execution_count": 13,
      "outputs": [
        {
          "output_type": "stream",
          "name": "stdout",
          "text": [
            "Drive already mounted at /content/drive; to attempt to forcibly remount, call drive.mount(\"/content/drive\", force_remount=True).\n"
          ]
        }
      ]
    },
    {
      "cell_type": "code",
      "metadata": {
        "id": "haxp9j83EwYN"
      },
      "source": [
        "!ls drive/My\\ Drive\n",
        "file_path = \"/content/drive/My Drive/Geology (Ate Grass)/3 classes/\""
      ],
      "execution_count": null,
      "outputs": []
    },
    {
      "cell_type": "code",
      "source": [
        "import numpy as np\n",
        "import tensorflow as tf\n",
        "from tensorflow.keras.layers import Dense, Flatten, Conv2D, MaxPooling2D, Dropout\n",
        "from tensorflow.keras.models import Sequential\n",
        "from tensorflow.keras.preprocessing.image import load_img, img_to_array\n",
        "from tensorflow.keras.utils import to_categorical\n",
        "import os\n",
        "\n",
        "# Function to resize images to 227x227\n",
        "def resize_image(image_path):\n",
        "    img = load_img(image_path, target_size=(224, 224))\n",
        "    img_array = img_to_array(img) / 255.0\n",
        "    return img_array\n",
        "\n",
        "# Load and preprocess training data\n",
        "train_images = []\n",
        "train_labels = []\n",
        "\n",
        "train_dir = file_path + '/Training/'\n",
        "classes = os.listdir(train_dir)\n",
        "\n",
        "for class_name in classes:\n",
        "    class_dir = os.path.join(train_dir, class_name)\n",
        "    for image_name in os.listdir(class_dir):\n",
        "        image_path = os.path.join(class_dir, image_name)\n",
        "        train_images.append(resize_image(image_path))\n",
        "        train_labels.append(class_name)\n"
      ],
      "metadata": {
        "id": "glBas97u-g_k"
      },
      "execution_count": 15,
      "outputs": []
    },
    {
      "cell_type": "code",
      "source": [
        "train_images = np.array(train_images)\n",
        "print(np.shape(train_images))\n",
        "\n",
        "from sklearn.preprocessing import LabelEncoder\n",
        "\n",
        "# Encode class names into numerical labels\n",
        "label_encoder = LabelEncoder()\n",
        "train_labels_encoded = label_encoder.fit_transform(train_labels)\n",
        "\n",
        "# Convert numerical labels to one-hot encoded vectors\n",
        "train_labels = to_categorical(train_labels_encoded, num_classes=3)\n",
        "\n",
        "print(np.shape(train_labels))\n",
        "train_images, val_images, train_labels, val_labels = train_test_split(train_images, train_labels, test_size=0.2, random_state=42)\n"
      ],
      "metadata": {
        "colab": {
          "base_uri": "https://localhost:8080/"
        },
        "id": "wPsEXFSzBtlS",
        "outputId": "784d11e2-9d6a-4640-f455-774cb7f3961f"
      },
      "execution_count": 16,
      "outputs": [
        {
          "output_type": "stream",
          "name": "stdout",
          "text": [
            "(2400, 224, 224, 3)\n",
            "(2400, 3)\n"
          ]
        }
      ]
    },
    {
      "cell_type": "code",
      "source": [
        "import tensorflow as tf\n",
        "from tensorflow.keras.layers import Dense, Flatten\n",
        "from tensorflow.keras.models import Model\n",
        "from tensorflow.keras.optimizers import Adam\n",
        "from sklearn.model_selection import train_test_split\n",
        "\n",
        "\n",
        "# Load pre-trained VGG16 model with weights from ImageNet\n",
        "vgg_base = tf.keras.applications.VGG16(weights='imagenet', include_top=False, input_shape=(224, 224, 3))\n",
        "\n",
        "# Freeze the pre-trained layers\n",
        "for layer in vgg_base.layers:\n",
        "    layer.trainable = False\n",
        "\n",
        "# Add custom classifier layers on top of the pre-trained layers\n",
        "x = Flatten()(vgg_base.output)\n",
        "x = Dense(4096, activation='relu')(x)\n",
        "x = Dense(2048, activation='relu')(x)\n",
        "output = Dense(3, activation='softmax')(x)\n",
        "\n",
        "# Create the full model\n",
        "vgg_model = Model(inputs=vgg_base.input, outputs=output)\n",
        "\n",
        "# Compile the model\n",
        "optimizer = Adam(learning_rate=0.00001)\n",
        "vgg_model.compile(optimizer=optimizer, loss='categorical_crossentropy', metrics=['accuracy'])\n",
        "\n",
        "# Train the model\n",
        "vgg_model.fit(train_images, train_labels, epochs=100, batch_size=32, validation_data=(val_images, val_labels))"
      ],
      "metadata": {
        "id": "9OkbuRdhb6_J",
        "outputId": "4e575e69-ef86-4fcc-a9af-feac39befaa4",
        "colab": {
          "base_uri": "https://localhost:8080/"
        }
      },
      "execution_count": 17,
      "outputs": [
        {
          "output_type": "stream",
          "name": "stdout",
          "text": [
            "Epoch 1/100\n",
            "60/60 [==============================] - 21s 204ms/step - loss: 0.8501 - accuracy: 0.6203 - val_loss: 0.7117 - val_accuracy: 0.6938\n",
            "Epoch 2/100\n",
            "60/60 [==============================] - 12s 205ms/step - loss: 0.5645 - accuracy: 0.7948 - val_loss: 0.5558 - val_accuracy: 0.7896\n",
            "Epoch 3/100\n",
            "60/60 [==============================] - 12s 201ms/step - loss: 0.4585 - accuracy: 0.8245 - val_loss: 0.4243 - val_accuracy: 0.8562\n",
            "Epoch 4/100\n",
            "60/60 [==============================] - 12s 204ms/step - loss: 0.3323 - accuracy: 0.9005 - val_loss: 0.3704 - val_accuracy: 0.8729\n",
            "Epoch 5/100\n",
            "60/60 [==============================] - 13s 211ms/step - loss: 0.2616 - accuracy: 0.9255 - val_loss: 0.3430 - val_accuracy: 0.8646\n",
            "Epoch 6/100\n",
            "60/60 [==============================] - 13s 220ms/step - loss: 0.2187 - accuracy: 0.9359 - val_loss: 0.2958 - val_accuracy: 0.8854\n",
            "Epoch 7/100\n",
            "60/60 [==============================] - 13s 217ms/step - loss: 0.1687 - accuracy: 0.9568 - val_loss: 0.2725 - val_accuracy: 0.8938\n",
            "Epoch 8/100\n",
            "60/60 [==============================] - 13s 218ms/step - loss: 0.1366 - accuracy: 0.9724 - val_loss: 0.2614 - val_accuracy: 0.9021\n",
            "Epoch 9/100\n",
            "60/60 [==============================] - 13s 210ms/step - loss: 0.1210 - accuracy: 0.9682 - val_loss: 0.2666 - val_accuracy: 0.9042\n",
            "Epoch 10/100\n",
            "60/60 [==============================] - 13s 210ms/step - loss: 0.0955 - accuracy: 0.9818 - val_loss: 0.3638 - val_accuracy: 0.8625\n",
            "Epoch 11/100\n",
            "60/60 [==============================] - 13s 211ms/step - loss: 0.0706 - accuracy: 0.9932 - val_loss: 0.2260 - val_accuracy: 0.9083\n",
            "Epoch 12/100\n",
            "60/60 [==============================] - 13s 212ms/step - loss: 0.0648 - accuracy: 0.9922 - val_loss: 0.2456 - val_accuracy: 0.9021\n",
            "Epoch 13/100\n",
            "60/60 [==============================] - 13s 214ms/step - loss: 0.0515 - accuracy: 0.9953 - val_loss: 0.2208 - val_accuracy: 0.9125\n",
            "Epoch 14/100\n",
            "60/60 [==============================] - 13s 214ms/step - loss: 0.0365 - accuracy: 0.9990 - val_loss: 0.2170 - val_accuracy: 0.9146\n",
            "Epoch 15/100\n",
            "60/60 [==============================] - 13s 213ms/step - loss: 0.0298 - accuracy: 0.9995 - val_loss: 0.2147 - val_accuracy: 0.9187\n",
            "Epoch 16/100\n",
            "60/60 [==============================] - 13s 212ms/step - loss: 0.0278 - accuracy: 1.0000 - val_loss: 0.2151 - val_accuracy: 0.9125\n",
            "Epoch 17/100\n",
            "60/60 [==============================] - 13s 217ms/step - loss: 0.0232 - accuracy: 0.9995 - val_loss: 0.2324 - val_accuracy: 0.9104\n",
            "Epoch 18/100\n",
            "60/60 [==============================] - 13s 212ms/step - loss: 0.0189 - accuracy: 1.0000 - val_loss: 0.2135 - val_accuracy: 0.9208\n",
            "Epoch 19/100\n",
            "60/60 [==============================] - 13s 217ms/step - loss: 0.0159 - accuracy: 1.0000 - val_loss: 0.2106 - val_accuracy: 0.9208\n",
            "Epoch 20/100\n",
            "60/60 [==============================] - 13s 217ms/step - loss: 0.0127 - accuracy: 1.0000 - val_loss: 0.2177 - val_accuracy: 0.9187\n",
            "Epoch 21/100\n",
            "60/60 [==============================] - 13s 217ms/step - loss: 0.0105 - accuracy: 1.0000 - val_loss: 0.2148 - val_accuracy: 0.9250\n",
            "Epoch 22/100\n",
            "60/60 [==============================] - 13s 212ms/step - loss: 0.0099 - accuracy: 1.0000 - val_loss: 0.2158 - val_accuracy: 0.9229\n",
            "Epoch 23/100\n",
            "60/60 [==============================] - 13s 212ms/step - loss: 0.0086 - accuracy: 1.0000 - val_loss: 0.2178 - val_accuracy: 0.9271\n",
            "Epoch 24/100\n",
            "60/60 [==============================] - 13s 213ms/step - loss: 0.0073 - accuracy: 1.0000 - val_loss: 0.2268 - val_accuracy: 0.9229\n",
            "Epoch 25/100\n",
            "60/60 [==============================] - 13s 213ms/step - loss: 0.0068 - accuracy: 1.0000 - val_loss: 0.2163 - val_accuracy: 0.9208\n",
            "Epoch 26/100\n",
            "60/60 [==============================] - 13s 218ms/step - loss: 0.0056 - accuracy: 1.0000 - val_loss: 0.2349 - val_accuracy: 0.9125\n",
            "Epoch 27/100\n",
            "60/60 [==============================] - 13s 213ms/step - loss: 0.0052 - accuracy: 1.0000 - val_loss: 0.2197 - val_accuracy: 0.9187\n",
            "Epoch 28/100\n",
            "60/60 [==============================] - 13s 213ms/step - loss: 0.0046 - accuracy: 1.0000 - val_loss: 0.2168 - val_accuracy: 0.9250\n",
            "Epoch 29/100\n",
            "60/60 [==============================] - 13s 218ms/step - loss: 0.0038 - accuracy: 1.0000 - val_loss: 0.2190 - val_accuracy: 0.9229\n",
            "Epoch 30/100\n",
            "60/60 [==============================] - 13s 218ms/step - loss: 0.0035 - accuracy: 1.0000 - val_loss: 0.2184 - val_accuracy: 0.9250\n",
            "Epoch 31/100\n",
            "60/60 [==============================] - 13s 213ms/step - loss: 0.0033 - accuracy: 1.0000 - val_loss: 0.2221 - val_accuracy: 0.9187\n",
            "Epoch 32/100\n",
            "60/60 [==============================] - 13s 213ms/step - loss: 0.0029 - accuracy: 1.0000 - val_loss: 0.2271 - val_accuracy: 0.9208\n",
            "Epoch 33/100\n",
            "60/60 [==============================] - 13s 212ms/step - loss: 0.0026 - accuracy: 1.0000 - val_loss: 0.2237 - val_accuracy: 0.9292\n",
            "Epoch 34/100\n",
            "60/60 [==============================] - 13s 212ms/step - loss: 0.0024 - accuracy: 1.0000 - val_loss: 0.2231 - val_accuracy: 0.9229\n",
            "Epoch 35/100\n",
            "60/60 [==============================] - 13s 218ms/step - loss: 0.0021 - accuracy: 1.0000 - val_loss: 0.2227 - val_accuracy: 0.9250\n",
            "Epoch 36/100\n",
            "60/60 [==============================] - 13s 213ms/step - loss: 0.0020 - accuracy: 1.0000 - val_loss: 0.2258 - val_accuracy: 0.9271\n",
            "Epoch 37/100\n",
            "60/60 [==============================] - 13s 213ms/step - loss: 0.0018 - accuracy: 1.0000 - val_loss: 0.2292 - val_accuracy: 0.9250\n",
            "Epoch 38/100\n",
            "60/60 [==============================] - 13s 218ms/step - loss: 0.0016 - accuracy: 1.0000 - val_loss: 0.2313 - val_accuracy: 0.9271\n",
            "Epoch 39/100\n",
            "60/60 [==============================] - 13s 218ms/step - loss: 0.0015 - accuracy: 1.0000 - val_loss: 0.2260 - val_accuracy: 0.9271\n",
            "Epoch 40/100\n",
            "60/60 [==============================] - 13s 213ms/step - loss: 0.0015 - accuracy: 1.0000 - val_loss: 0.2293 - val_accuracy: 0.9208\n",
            "Epoch 41/100\n",
            "60/60 [==============================] - 13s 213ms/step - loss: 0.0013 - accuracy: 1.0000 - val_loss: 0.2289 - val_accuracy: 0.9271\n",
            "Epoch 42/100\n",
            "60/60 [==============================] - 13s 213ms/step - loss: 0.0012 - accuracy: 1.0000 - val_loss: 0.2317 - val_accuracy: 0.9250\n",
            "Epoch 43/100\n",
            "60/60 [==============================] - 13s 213ms/step - loss: 0.0011 - accuracy: 1.0000 - val_loss: 0.2309 - val_accuracy: 0.9271\n",
            "Epoch 44/100\n",
            "60/60 [==============================] - 13s 213ms/step - loss: 0.0010 - accuracy: 1.0000 - val_loss: 0.2319 - val_accuracy: 0.9229\n",
            "Epoch 45/100\n",
            "60/60 [==============================] - 13s 212ms/step - loss: 9.3517e-04 - accuracy: 1.0000 - val_loss: 0.2320 - val_accuracy: 0.9271\n",
            "Epoch 46/100\n",
            "60/60 [==============================] - 13s 217ms/step - loss: 8.7128e-04 - accuracy: 1.0000 - val_loss: 0.2333 - val_accuracy: 0.9292\n",
            "Epoch 47/100\n",
            "60/60 [==============================] - 13s 212ms/step - loss: 8.2969e-04 - accuracy: 1.0000 - val_loss: 0.2352 - val_accuracy: 0.9229\n",
            "Epoch 48/100\n",
            "60/60 [==============================] - 13s 217ms/step - loss: 7.6539e-04 - accuracy: 1.0000 - val_loss: 0.2374 - val_accuracy: 0.9250\n",
            "Epoch 49/100\n",
            "60/60 [==============================] - 13s 212ms/step - loss: 7.0023e-04 - accuracy: 1.0000 - val_loss: 0.2374 - val_accuracy: 0.9292\n",
            "Epoch 50/100\n",
            "60/60 [==============================] - 13s 212ms/step - loss: 6.5379e-04 - accuracy: 1.0000 - val_loss: 0.2353 - val_accuracy: 0.9292\n",
            "Epoch 51/100\n",
            "60/60 [==============================] - 13s 212ms/step - loss: 6.1384e-04 - accuracy: 1.0000 - val_loss: 0.2397 - val_accuracy: 0.9250\n",
            "Epoch 52/100\n",
            "60/60 [==============================] - 13s 218ms/step - loss: 5.7303e-04 - accuracy: 1.0000 - val_loss: 0.2413 - val_accuracy: 0.9312\n",
            "Epoch 53/100\n",
            "60/60 [==============================] - 13s 218ms/step - loss: 5.4179e-04 - accuracy: 1.0000 - val_loss: 0.2413 - val_accuracy: 0.9271\n",
            "Epoch 54/100\n",
            "60/60 [==============================] - 13s 217ms/step - loss: 5.0507e-04 - accuracy: 1.0000 - val_loss: 0.2406 - val_accuracy: 0.9271\n",
            "Epoch 55/100\n",
            "60/60 [==============================] - 13s 212ms/step - loss: 4.8850e-04 - accuracy: 1.0000 - val_loss: 0.2391 - val_accuracy: 0.9271\n",
            "Epoch 56/100\n",
            "60/60 [==============================] - 13s 218ms/step - loss: 4.4668e-04 - accuracy: 1.0000 - val_loss: 0.2405 - val_accuracy: 0.9292\n",
            "Epoch 57/100\n",
            "60/60 [==============================] - 13s 218ms/step - loss: 4.1500e-04 - accuracy: 1.0000 - val_loss: 0.2437 - val_accuracy: 0.9229\n",
            "Epoch 58/100\n",
            "60/60 [==============================] - 13s 218ms/step - loss: 3.9849e-04 - accuracy: 1.0000 - val_loss: 0.2408 - val_accuracy: 0.9271\n",
            "Epoch 59/100\n",
            "60/60 [==============================] - 13s 213ms/step - loss: 3.7941e-04 - accuracy: 1.0000 - val_loss: 0.2477 - val_accuracy: 0.9333\n",
            "Epoch 60/100\n",
            "60/60 [==============================] - 13s 218ms/step - loss: 3.4788e-04 - accuracy: 1.0000 - val_loss: 0.2412 - val_accuracy: 0.9292\n",
            "Epoch 61/100\n",
            "60/60 [==============================] - 13s 217ms/step - loss: 3.2778e-04 - accuracy: 1.0000 - val_loss: 0.2433 - val_accuracy: 0.9271\n",
            "Epoch 62/100\n",
            "60/60 [==============================] - 13s 217ms/step - loss: 3.0537e-04 - accuracy: 1.0000 - val_loss: 0.2456 - val_accuracy: 0.9271\n",
            "Epoch 63/100\n",
            "60/60 [==============================] - 13s 212ms/step - loss: 2.8987e-04 - accuracy: 1.0000 - val_loss: 0.2490 - val_accuracy: 0.9292\n",
            "Epoch 64/100\n",
            "60/60 [==============================] - 13s 217ms/step - loss: 2.7809e-04 - accuracy: 1.0000 - val_loss: 0.2468 - val_accuracy: 0.9271\n",
            "Epoch 65/100\n",
            "60/60 [==============================] - 13s 212ms/step - loss: 2.6348e-04 - accuracy: 1.0000 - val_loss: 0.2480 - val_accuracy: 0.9271\n",
            "Epoch 66/100\n",
            "60/60 [==============================] - 13s 217ms/step - loss: 2.4474e-04 - accuracy: 1.0000 - val_loss: 0.2472 - val_accuracy: 0.9312\n",
            "Epoch 67/100\n",
            "60/60 [==============================] - 13s 217ms/step - loss: 2.3055e-04 - accuracy: 1.0000 - val_loss: 0.2471 - val_accuracy: 0.9271\n",
            "Epoch 68/100\n",
            "60/60 [==============================] - 13s 212ms/step - loss: 2.2608e-04 - accuracy: 1.0000 - val_loss: 0.2497 - val_accuracy: 0.9312\n",
            "Epoch 69/100\n",
            "60/60 [==============================] - 13s 217ms/step - loss: 2.0775e-04 - accuracy: 1.0000 - val_loss: 0.2517 - val_accuracy: 0.9271\n",
            "Epoch 70/100\n",
            "60/60 [==============================] - 13s 212ms/step - loss: 1.9701e-04 - accuracy: 1.0000 - val_loss: 0.2500 - val_accuracy: 0.9250\n",
            "Epoch 71/100\n",
            "60/60 [==============================] - 13s 213ms/step - loss: 1.8671e-04 - accuracy: 1.0000 - val_loss: 0.2531 - val_accuracy: 0.9271\n",
            "Epoch 72/100\n",
            "60/60 [==============================] - 13s 213ms/step - loss: 1.7643e-04 - accuracy: 1.0000 - val_loss: 0.2543 - val_accuracy: 0.9292\n",
            "Epoch 73/100\n",
            "60/60 [==============================] - 13s 213ms/step - loss: 1.6715e-04 - accuracy: 1.0000 - val_loss: 0.2525 - val_accuracy: 0.9312\n",
            "Epoch 74/100\n",
            "60/60 [==============================] - 13s 219ms/step - loss: 1.5950e-04 - accuracy: 1.0000 - val_loss: 0.2537 - val_accuracy: 0.9271\n",
            "Epoch 75/100\n",
            "60/60 [==============================] - 13s 217ms/step - loss: 1.5209e-04 - accuracy: 1.0000 - val_loss: 0.2548 - val_accuracy: 0.9312\n",
            "Epoch 76/100\n",
            "60/60 [==============================] - 13s 212ms/step - loss: 1.4418e-04 - accuracy: 1.0000 - val_loss: 0.2551 - val_accuracy: 0.9312\n",
            "Epoch 77/100\n",
            "60/60 [==============================] - 13s 213ms/step - loss: 1.3771e-04 - accuracy: 1.0000 - val_loss: 0.2526 - val_accuracy: 0.9333\n",
            "Epoch 78/100\n",
            "60/60 [==============================] - 13s 212ms/step - loss: 1.3098e-04 - accuracy: 1.0000 - val_loss: 0.2565 - val_accuracy: 0.9312\n",
            "Epoch 79/100\n",
            "60/60 [==============================] - 13s 212ms/step - loss: 1.2448e-04 - accuracy: 1.0000 - val_loss: 0.2548 - val_accuracy: 0.9292\n",
            "Epoch 80/100\n",
            "60/60 [==============================] - 13s 212ms/step - loss: 1.2048e-04 - accuracy: 1.0000 - val_loss: 0.2575 - val_accuracy: 0.9271\n",
            "Epoch 81/100\n",
            "60/60 [==============================] - 13s 212ms/step - loss: 1.1388e-04 - accuracy: 1.0000 - val_loss: 0.2582 - val_accuracy: 0.9312\n",
            "Epoch 82/100\n",
            "60/60 [==============================] - 13s 212ms/step - loss: 1.0741e-04 - accuracy: 1.0000 - val_loss: 0.2607 - val_accuracy: 0.9312\n",
            "Epoch 83/100\n",
            "60/60 [==============================] - 13s 212ms/step - loss: 1.0247e-04 - accuracy: 1.0000 - val_loss: 0.2603 - val_accuracy: 0.9271\n",
            "Epoch 84/100\n",
            "60/60 [==============================] - 13s 218ms/step - loss: 9.7254e-05 - accuracy: 1.0000 - val_loss: 0.2605 - val_accuracy: 0.9312\n",
            "Epoch 85/100\n",
            "60/60 [==============================] - 13s 217ms/step - loss: 9.2022e-05 - accuracy: 1.0000 - val_loss: 0.2630 - val_accuracy: 0.9312\n",
            "Epoch 86/100\n",
            "60/60 [==============================] - 13s 212ms/step - loss: 8.8400e-05 - accuracy: 1.0000 - val_loss: 0.2629 - val_accuracy: 0.9271\n",
            "Epoch 87/100\n",
            "60/60 [==============================] - 13s 217ms/step - loss: 8.4627e-05 - accuracy: 1.0000 - val_loss: 0.2622 - val_accuracy: 0.9312\n",
            "Epoch 88/100\n",
            "60/60 [==============================] - 13s 212ms/step - loss: 8.0652e-05 - accuracy: 1.0000 - val_loss: 0.2629 - val_accuracy: 0.9354\n",
            "Epoch 89/100\n",
            "60/60 [==============================] - 13s 218ms/step - loss: 7.8063e-05 - accuracy: 1.0000 - val_loss: 0.2637 - val_accuracy: 0.9333\n",
            "Epoch 90/100\n",
            "60/60 [==============================] - 13s 218ms/step - loss: 7.3113e-05 - accuracy: 1.0000 - val_loss: 0.2661 - val_accuracy: 0.9333\n",
            "Epoch 91/100\n",
            "60/60 [==============================] - 13s 212ms/step - loss: 7.0393e-05 - accuracy: 1.0000 - val_loss: 0.2653 - val_accuracy: 0.9250\n",
            "Epoch 92/100\n",
            "60/60 [==============================] - 13s 213ms/step - loss: 6.8330e-05 - accuracy: 1.0000 - val_loss: 0.2689 - val_accuracy: 0.9292\n",
            "Epoch 93/100\n",
            "60/60 [==============================] - 13s 218ms/step - loss: 6.3661e-05 - accuracy: 1.0000 - val_loss: 0.2662 - val_accuracy: 0.9354\n",
            "Epoch 94/100\n",
            "60/60 [==============================] - 13s 213ms/step - loss: 6.0688e-05 - accuracy: 1.0000 - val_loss: 0.2668 - val_accuracy: 0.9333\n",
            "Epoch 95/100\n",
            "60/60 [==============================] - 13s 218ms/step - loss: 5.7986e-05 - accuracy: 1.0000 - val_loss: 0.2682 - val_accuracy: 0.9333\n",
            "Epoch 96/100\n",
            "60/60 [==============================] - 13s 212ms/step - loss: 5.5595e-05 - accuracy: 1.0000 - val_loss: 0.2677 - val_accuracy: 0.9333\n",
            "Epoch 97/100\n",
            "60/60 [==============================] - 13s 217ms/step - loss: 5.3469e-05 - accuracy: 1.0000 - val_loss: 0.2694 - val_accuracy: 0.9292\n",
            "Epoch 98/100\n",
            "60/60 [==============================] - 13s 212ms/step - loss: 5.1050e-05 - accuracy: 1.0000 - val_loss: 0.2701 - val_accuracy: 0.9312\n",
            "Epoch 99/100\n",
            "60/60 [==============================] - 13s 212ms/step - loss: 4.8566e-05 - accuracy: 1.0000 - val_loss: 0.2715 - val_accuracy: 0.9292\n",
            "Epoch 100/100\n",
            "60/60 [==============================] - 13s 212ms/step - loss: 4.6957e-05 - accuracy: 1.0000 - val_loss: 0.2706 - val_accuracy: 0.9354\n"
          ]
        },
        {
          "output_type": "execute_result",
          "data": {
            "text/plain": [
              "<keras.src.callbacks.History at 0x7e5bef9d8f10>"
            ]
          },
          "metadata": {},
          "execution_count": 17
        }
      ]
    },
    {
      "cell_type": "code",
      "source": [
        "\n",
        "# Load and preprocess test data\n",
        "test_images = []\n",
        "test_labels = []\n",
        "\n",
        "test_dir = file_path + '/Testing/'\n",
        "\n",
        "for class_name in classes:\n",
        "    class_dir = os.path.join(test_dir, class_name)\n",
        "    for image_name in os.listdir(class_dir):\n",
        "        image_path = os.path.join(class_dir, image_name)\n",
        "        test_images.append(resize_image(image_path))\n",
        "        test_labels.append(class_name)\n",
        "\n",
        "test_images = np.array(test_images)\n",
        "# Encode class names into numerical labels\n",
        "label_encoder = LabelEncoder()\n",
        "test_labels_encoded = label_encoder.fit_transform(test_labels)\n",
        "\n",
        "# Convert numerical labels to one-hot encoded vectors\n",
        "test_labels = to_categorical(test_labels_encoded, num_classes=3)  # Assuming 3 output classes\n",
        "\n",
        "print(np.shape(test_labels))\n",
        "\n"
      ],
      "metadata": {
        "colab": {
          "base_uri": "https://localhost:8080/"
        },
        "id": "Epv7ta7nC7AR",
        "outputId": "071a922b-52c9-44d3-ec06-c56593c4173b"
      },
      "execution_count": 18,
      "outputs": [
        {
          "output_type": "stream",
          "name": "stdout",
          "text": [
            "(250, 3)\n"
          ]
        }
      ]
    },
    {
      "cell_type": "code",
      "source": [
        "import numpy as np\n",
        "import matplotlib.pyplot as plt\n",
        "import seaborn as sns\n",
        "from sklearn.metrics import classification_report, confusion_matrix\n",
        "import pandas as pd\n",
        "\n",
        "model = vgg_model\n",
        "# Predict probabilities for test data\n",
        "y_pred_prob = model.predict(test_images)\n",
        "# Convert probabilities to class labels\n",
        "y_pred = np.argmax(y_pred_prob, axis=1)\n",
        "# Convert one-hot encoded test labels to class labels\n",
        "y_true = np.argmax(test_labels, axis=1)\n",
        "\n",
        "# Calculate precision, recall, and F1-score\n",
        "report = classification_report(y_true, y_pred, target_names=classes)\n",
        "print(\"Classification Report:\\n\", report)\n",
        "\n",
        "# Save classification report to a text file\n",
        "with open('classification_report.txt', 'w') as f:\n",
        "    f.write(report)\n",
        "\n",
        "# Parse classification report into DataFrame\n",
        "report_data = []\n",
        "lines = report.split('\\n')\n",
        "for line in lines[2:-5]:\n",
        "    row_data = line.split()\n",
        "    if len(row_data) == 5:\n",
        "        row_data = [row_data[0], *map(float, row_data[1:])]\n",
        "        report_data.append(row_data)\n",
        "\n",
        "# Convert classification report to DataFrame\n",
        "metrics_df = pd.DataFrame(report_data, columns=['Class', 'Precision', 'Recall', 'F1-Score', 'Support'])\n",
        "\n",
        "# Save classification report to Excel\n",
        "metrics_df.to_excel(file_path + 'classification_report.xlsx', index=False)\n",
        "\n",
        "# Calculate confusion matrix\n",
        "cm = confusion_matrix(y_true, y_pred)\n",
        "\n",
        "# Plot confusion matrix as a heatmap\n",
        "plt.figure(figsize=(8, 6))\n",
        "sns.heatmap(cm, annot=True, fmt='d', cmap='Blues', xticklabels=classes, yticklabels=classes)\n",
        "plt.xlabel('Predicted labels')\n",
        "plt.ylabel('True labels')\n",
        "plt.title('Confusion Matrix')\n",
        "plt.savefig(file_path + 'confusion_matrix.png')  # Save confusion matrix image\n",
        "\n",
        "# Convert confusion matrix to DataFrame\n",
        "df_cm = pd.DataFrame(cm, index=classes, columns=classes)\n",
        "\n",
        "# Save confusion matrix to Excel\n",
        "df_cm.to_excel(file_path + 'confusion_matrix.xlsx')\n"
      ],
      "metadata": {
        "colab": {
          "base_uri": "https://localhost:8080/",
          "height": 768
        },
        "id": "1dvGp9eDDOB0",
        "outputId": "e281445f-b53c-4335-87e9-695dd26eb3d5"
      },
      "execution_count": 20,
      "outputs": [
        {
          "output_type": "stream",
          "name": "stdout",
          "text": [
            "8/8 [==============================] - 1s 153ms/step\n",
            "Classification Report:\n",
            "                  precision    recall  f1-score   support\n",
            "\n",
            "     Good_class       0.86      0.77      0.81       105\n",
            "     Poor_class       0.88      0.87      0.88       123\n",
            "Very Good_class       0.37      0.59      0.46        22\n",
            "\n",
            "       accuracy                           0.80       250\n",
            "      macro avg       0.71      0.74      0.72       250\n",
            "   weighted avg       0.83      0.80      0.81       250\n",
            "\n"
          ]
        },
        {
          "output_type": "display_data",
          "data": {
            "text/plain": [
              "<Figure size 800x600 with 2 Axes>"
            ],
            "image/png": "[encoded data removed]"
          },
          "metadata": {}
        }
      ]
    },
    {
      "cell_type": "code",
      "source": [],
      "metadata": {
        "id": "UDPfPOW-JgUW"
      },
      "execution_count": null,
      "outputs": []
    }
  ]
}