{
  "nbformat": 4,
  "nbformat_minor": 0,
  "metadata": {
    "colab": {
      "provenance": [],
      "include_colab_link": true
    },
    "kernelspec": {
      "name": "python3",
      "display_name": "Python 3"
    },
    "language_info": {
      "name": "python"
    },
    "accelerator": "GPU"
  },
  "cells": [
    {
      "cell_type": "markdown",
      "metadata": {
        "id": "view-in-github",
        "colab_type": "text"
      },
      "source": [
        "<a href=\"https://colab.research.google.com/github/mgnarag/Geology-image-classification/blob/main/Model_FINAL.ipynb\" target=\"_parent\"><img src=\"https://colab.research.google.com/assets/colab-badge.svg\" alt=\"Open In Colab\"/></a>"
      ]
    },
    {
      "cell_type": "markdown",
      "source": [
        "# **1.Installing packages and connecting the google drive**"
      ],
      "metadata": {
        "id": "wUGLvWc_dagj"
      }
    },
    {
      "cell_type": "code",
      "metadata": {
        "id": "TARO4TgEEggU"
      },
      "source": [
        "import torch\n",
        "import torchvision\n",
        "import torchvision.transforms as transforms\n",
        "\n",
        "import numpy as np\n",
        "import tensorflow as tf\n",
        "from tensorflow.keras.layers import Dense, Flatten, Conv2D, MaxPooling2D, Dropout\n",
        "from tensorflow.keras.models import Sequential\n",
        "from tensorflow.keras.preprocessing.image import load_img, img_to_array\n",
        "from tensorflow.keras.utils import to_categorical\n",
        "import os\n",
        "from sklearn.model_selection import train_test_split\n",
        "\n",
        "import numpy as np\n",
        "import matplotlib.pyplot as plt\n",
        "import seaborn as sns\n",
        "from sklearn.metrics import classification_report, confusion_matrix\n",
        "import pandas as pd\n",
        "\n",
        "import tensorflow as tf\n",
        "from tensorflow.keras.layers import Dense, Flatten\n",
        "from tensorflow.keras.models import Model\n",
        "from tensorflow.keras.optimizers import Adam"
      ],
      "execution_count": 1,
      "outputs": []
    },
    {
      "cell_type": "code",
      "metadata": {
        "colab": {
          "base_uri": "https://localhost:8080/"
        },
        "id": "q953voK6EvI8",
        "outputId": "a4b7711d-0f3b-4967-d60a-044b44e2080d"
      },
      "source": [
        "from google.colab import drive\n",
        "drive.mount(\"/content/drive\")"
      ],
      "execution_count": 2,
      "outputs": [
        {
          "output_type": "stream",
          "name": "stdout",
          "text": [
            "Mounted at /content/drive\n"
          ]
        }
      ]
    },
    {
      "cell_type": "code",
      "metadata": {
        "id": "haxp9j83EwYN"
      },
      "source": [
        "!ls drive/My\\ Drive\n",
        "file_path = \"/content/drive/My Drive/Geology (Ate Grass)/3 classes/\""
      ],
      "execution_count": null,
      "outputs": []
    },
    {
      "cell_type": "markdown",
      "source": [
        "# **2.Preparing the training and validation dataset**\n",
        "### make sure to change the `img_size` to the correct image size of the model:\n",
        "*   For ALEXNET, it is 227 by 227\n",
        "*   For VGG16, it is 224 by 224\n",
        "*   For RESNET, it is 224 by 224\n",
        "\n",
        "\n"
      ],
      "metadata": {
        "id": "JIHrmfu9dixM"
      }
    },
    {
      "cell_type": "code",
      "source": [
        "img_size = 227\n",
        "\n",
        "# Function to resize images to the stated img_size\n",
        "def resize_image(image_path):\n",
        "    img = load_img(image_path, target_size=(img_size, img_size))\n",
        "    img_array = img_to_array(img) / 255.0\n",
        "    return img_array\n",
        "\n",
        "# Load and preprocess training data\n",
        "train_images = []\n",
        "train_labels = []\n",
        "train_dir = file_path + '/Training/'\n",
        "classes = os.listdir(train_dir)\n",
        "\n",
        "for class_name in classes:\n",
        "    class_dir = os.path.join(train_dir, class_name)\n",
        "    for image_name in os.listdir(class_dir):\n",
        "        image_path = os.path.join(class_dir, image_name)\n",
        "        train_images.append(resize_image(image_path))\n",
        "        train_labels.append(class_name)\n",
        "\n",
        "train_images = np.array(train_images)\n",
        "print('shape of dataset',np.shape(train_images))\n",
        "\n",
        "from sklearn.preprocessing import LabelEncoder\n",
        "\n",
        "# Encode class names into numerical labels\n",
        "label_encoder = LabelEncoder()\n",
        "train_labels_encoded = label_encoder.fit_transform(train_labels)\n",
        "\n",
        "# Convert numerical labels to one-hot encoded vectors\n",
        "train_labels = to_categorical(train_labels_encoded, num_classes=3)\n",
        "\n",
        "print('shape of dataset label',np.shape(train_labels))\n",
        "train_images, val_images, train_labels, val_labels = train_test_split(train_images, train_labels, test_size=0.2, random_state=42)\n"
      ],
      "metadata": {
        "id": "glBas97u-g_k",
        "colab": {
          "base_uri": "https://localhost:8080/"
        },
        "outputId": "5e318c70-ae11-4fed-c32e-26a908192d68"
      },
      "execution_count": 4,
      "outputs": [
        {
          "output_type": "stream",
          "name": "stdout",
          "text": [
            "shape of dataset (2400, 227, 227, 3)\n",
            "shape of dataset label (2400, 3)\n"
          ]
        }
      ]
    },
    {
      "cell_type": "markdown",
      "source": [
        "# **Training the model**\n",
        "\n",
        "We will train three (3) different models. We will run them separately.\n"
      ],
      "metadata": {
        "id": "HtCbpFMje74F"
      }
    },
    {
      "cell_type": "markdown",
      "source": [
        "## **RUN THIS FOR ALEXNET**\n",
        "There is no built-in model for alexnet so we have to create it from scratch"
      ],
      "metadata": {
        "id": "kZm6xwDLlc9b"
      }
    },
    {
      "cell_type": "code",
      "source": [
        "#AlexNet architecture from scratch\n",
        "alex_model = Sequential([\n",
        "    Conv2D(96, kernel_size=(11,11), strides=(4,4), activation='relu', input_shape=(227, 227, 3)),\n",
        "    MaxPooling2D(pool_size=(3,3), strides=(2,2)),\n",
        "    Conv2D(256, kernel_size=(5,5), activation='relu'),\n",
        "    MaxPooling2D(pool_size=(3,3), strides=(2,2)),\n",
        "    Conv2D(384, kernel_size=(3,3), activation='relu'),\n",
        "    Conv2D(384, kernel_size=(3,3), activation='relu'),\n",
        "    Conv2D(256, kernel_size=(3,3), activation='relu'),\n",
        "    MaxPooling2D(pool_size=(3,3), strides=(2,2)),\n",
        "    Flatten(),\n",
        "    Dense(4096, activation='relu'),\n",
        "    Dropout(0.5),\n",
        "    Dense(4096, activation='relu'),\n",
        "    Dropout(0.5),\n",
        "    Dense(3, activation='softmax')\n",
        "])\n",
        "\n",
        "\n",
        "from tensorflow.keras.optimizers import Adam\n",
        "\n",
        "optimizer = Adam(learning_rate=0.0001)\n",
        "\n",
        "alex_model.compile(optimizer=optimizer, loss='categorical_crossentropy', metrics=['accuracy'])\n",
        "# Train  model\n",
        "alex_model.fit(train_images, train_labels, epochs=100, batch_size=32, validation_data=(val_images, val_labels))\n",
        "alex_model.save(file_path + \"Models/alex_model\")"
      ],
      "metadata": {
        "id": "h-AruNxIlQNA",
        "colab": {
          "base_uri": "https://localhost:8080/"
        },
        "outputId": "bf024603-9026-4767-fbff-c076c46e5586"
      },
      "execution_count": 5,
      "outputs": [
        {
          "output_type": "stream",
          "name": "stdout",
          "text": [
            "Epoch 1/100\n",
            "60/60 [==============================] - 10s 34ms/step - loss: 1.1008 - accuracy: 0.3385\n",
            "Epoch 2/100\n",
            "60/60 [==============================] - 2s 36ms/step - loss: 1.0995 - accuracy: 0.3198\n",
            "Epoch 3/100\n",
            "60/60 [==============================] - 2s 39ms/step - loss: 1.0984 - accuracy: 0.3536\n",
            "Epoch 4/100\n",
            "60/60 [==============================] - 2s 37ms/step - loss: 0.9957 - accuracy: 0.4344\n",
            "Epoch 5/100\n",
            "60/60 [==============================] - 2s 36ms/step - loss: 0.8232 - accuracy: 0.5667\n",
            "Epoch 6/100\n",
            "60/60 [==============================] - 2s 34ms/step - loss: 0.6966 - accuracy: 0.6250\n",
            "Epoch 7/100\n",
            "60/60 [==============================] - 2s 34ms/step - loss: 0.6066 - accuracy: 0.6906\n",
            "Epoch 8/100\n",
            "60/60 [==============================] - 2s 36ms/step - loss: 0.5364 - accuracy: 0.7323\n",
            "Epoch 9/100\n",
            "60/60 [==============================] - 2s 34ms/step - loss: 0.4694 - accuracy: 0.7818\n",
            "Epoch 10/100\n",
            "60/60 [==============================] - 2s 38ms/step - loss: 0.4049 - accuracy: 0.8151\n",
            "Epoch 11/100\n",
            "60/60 [==============================] - 2s 38ms/step - loss: 0.3558 - accuracy: 0.8380\n",
            "Epoch 12/100\n",
            "60/60 [==============================] - 2s 37ms/step - loss: 0.3135 - accuracy: 0.8615\n",
            "Epoch 13/100\n",
            "60/60 [==============================] - 2s 35ms/step - loss: 0.2950 - accuracy: 0.8698\n",
            "Epoch 14/100\n",
            "60/60 [==============================] - 2s 35ms/step - loss: 0.2423 - accuracy: 0.8958\n",
            "Epoch 15/100\n",
            "60/60 [==============================] - 2s 34ms/step - loss: 0.1858 - accuracy: 0.9167\n",
            "Epoch 16/100\n",
            "60/60 [==============================] - 2s 35ms/step - loss: 0.1551 - accuracy: 0.9359\n",
            "Epoch 17/100\n",
            "60/60 [==============================] - 2s 40ms/step - loss: 0.1602 - accuracy: 0.9401\n",
            "Epoch 18/100\n",
            "60/60 [==============================] - 3s 53ms/step - loss: 0.1208 - accuracy: 0.9568\n",
            "Epoch 19/100\n",
            "60/60 [==============================] - 3s 43ms/step - loss: 0.0935 - accuracy: 0.9682\n",
            "Epoch 20/100\n",
            "60/60 [==============================] - 2s 40ms/step - loss: 0.0730 - accuracy: 0.9740\n",
            "Epoch 21/100\n",
            "60/60 [==============================] - 3s 44ms/step - loss: 0.0453 - accuracy: 0.9859\n",
            "Epoch 22/100\n",
            "60/60 [==============================] - 2s 35ms/step - loss: 0.0302 - accuracy: 0.9917\n",
            "Epoch 23/100\n",
            "60/60 [==============================] - 2s 36ms/step - loss: 0.0235 - accuracy: 0.9917\n",
            "Epoch 24/100\n",
            "60/60 [==============================] - 2s 38ms/step - loss: 0.0642 - accuracy: 0.9818\n",
            "Epoch 25/100\n",
            "60/60 [==============================] - 2s 35ms/step - loss: 0.0411 - accuracy: 0.9911\n",
            "Epoch 26/100\n",
            "60/60 [==============================] - 2s 35ms/step - loss: 0.0660 - accuracy: 0.9797\n",
            "Epoch 27/100\n",
            "60/60 [==============================] - 2s 38ms/step - loss: 0.0197 - accuracy: 0.9953\n",
            "Epoch 28/100\n",
            "60/60 [==============================] - 2s 35ms/step - loss: 0.0053 - accuracy: 0.9984\n",
            "Epoch 29/100\n",
            "60/60 [==============================] - 2s 35ms/step - loss: 0.0020 - accuracy: 1.0000\n",
            "Epoch 30/100\n",
            "60/60 [==============================] - 2s 39ms/step - loss: 0.0028 - accuracy: 1.0000\n",
            "Epoch 31/100\n",
            "60/60 [==============================] - 2s 37ms/step - loss: 0.0011 - accuracy: 1.0000\n",
            "Epoch 32/100\n",
            "60/60 [==============================] - 2s 35ms/step - loss: 9.2624e-04 - accuracy: 1.0000\n",
            "Epoch 33/100\n",
            "60/60 [==============================] - 2s 35ms/step - loss: 9.2374e-04 - accuracy: 1.0000\n",
            "Epoch 34/100\n",
            "60/60 [==============================] - 2s 35ms/step - loss: 0.0135 - accuracy: 0.9974\n",
            "Epoch 35/100\n",
            "60/60 [==============================] - 2s 35ms/step - loss: 0.1233 - accuracy: 0.9568\n",
            "Epoch 36/100\n",
            "60/60 [==============================] - 2s 38ms/step - loss: 0.0450 - accuracy: 0.9839\n",
            "Epoch 37/100\n",
            "60/60 [==============================] - 2s 38ms/step - loss: 0.0141 - accuracy: 0.9969\n",
            "Epoch 38/100\n",
            "60/60 [==============================] - 2s 35ms/step - loss: 0.0147 - accuracy: 0.9943\n",
            "Epoch 39/100\n",
            "60/60 [==============================] - 2s 35ms/step - loss: 0.0853 - accuracy: 0.9703\n",
            "Epoch 40/100\n",
            "60/60 [==============================] - 2s 35ms/step - loss: 0.0278 - accuracy: 0.9917\n",
            "Epoch 41/100\n",
            "60/60 [==============================] - 2s 35ms/step - loss: 0.0042 - accuracy: 1.0000\n",
            "Epoch 42/100\n",
            "60/60 [==============================] - 2s 36ms/step - loss: 0.0028 - accuracy: 0.9995\n",
            "Epoch 43/100\n",
            "60/60 [==============================] - 2s 39ms/step - loss: 0.0010 - accuracy: 1.0000\n",
            "Epoch 44/100\n",
            "60/60 [==============================] - 2s 36ms/step - loss: 6.6049e-04 - accuracy: 1.0000\n",
            "Epoch 45/100\n",
            "60/60 [==============================] - 2s 34ms/step - loss: 4.5481e-04 - accuracy: 1.0000\n",
            "Epoch 46/100\n",
            "60/60 [==============================] - 2s 35ms/step - loss: 4.8780e-04 - accuracy: 1.0000\n",
            "Epoch 47/100\n",
            "60/60 [==============================] - 2s 35ms/step - loss: 3.1171e-04 - accuracy: 1.0000\n",
            "Epoch 48/100\n",
            "60/60 [==============================] - 2s 35ms/step - loss: 2.2800e-04 - accuracy: 1.0000\n",
            "Epoch 49/100\n",
            "60/60 [==============================] - 2s 37ms/step - loss: 2.1785e-04 - accuracy: 1.0000\n",
            "Epoch 50/100\n",
            "60/60 [==============================] - 2s 37ms/step - loss: 4.8778e-04 - accuracy: 1.0000\n",
            "Epoch 51/100\n",
            "60/60 [==============================] - 2s 35ms/step - loss: 1.8838e-04 - accuracy: 1.0000\n",
            "Epoch 52/100\n",
            "60/60 [==============================] - 2s 35ms/step - loss: 1.5675e-04 - accuracy: 1.0000\n",
            "Epoch 53/100\n",
            "60/60 [==============================] - 2s 35ms/step - loss: 1.2815e-04 - accuracy: 1.0000\n",
            "Epoch 54/100\n",
            "60/60 [==============================] - 2s 35ms/step - loss: 1.1562e-04 - accuracy: 1.0000\n",
            "Epoch 55/100\n",
            "60/60 [==============================] - 2s 36ms/step - loss: 1.0418e-04 - accuracy: 1.0000\n",
            "Epoch 56/100\n",
            "60/60 [==============================] - 2s 38ms/step - loss: 1.1453e-04 - accuracy: 1.0000\n",
            "Epoch 57/100\n",
            "60/60 [==============================] - 2s 36ms/step - loss: 9.6185e-05 - accuracy: 1.0000\n",
            "Epoch 58/100\n",
            "60/60 [==============================] - 2s 34ms/step - loss: 9.2566e-05 - accuracy: 1.0000\n",
            "Epoch 59/100\n",
            "60/60 [==============================] - 2s 35ms/step - loss: 6.6968e-05 - accuracy: 1.0000\n",
            "Epoch 60/100\n",
            "60/60 [==============================] - 2s 35ms/step - loss: 9.1194e-05 - accuracy: 1.0000\n",
            "Epoch 61/100\n",
            "60/60 [==============================] - 2s 35ms/step - loss: 7.3280e-05 - accuracy: 1.0000\n",
            "Epoch 62/100\n",
            "60/60 [==============================] - 2s 38ms/step - loss: 3.0134e-04 - accuracy: 1.0000\n",
            "Epoch 63/100\n",
            "60/60 [==============================] - 2s 38ms/step - loss: 9.5935e-05 - accuracy: 1.0000\n",
            "Epoch 64/100\n",
            "60/60 [==============================] - 2s 35ms/step - loss: 6.7740e-05 - accuracy: 1.0000\n",
            "Epoch 65/100\n",
            "60/60 [==============================] - 2s 35ms/step - loss: 6.4569e-05 - accuracy: 1.0000\n",
            "Epoch 66/100\n",
            "60/60 [==============================] - 2s 35ms/step - loss: 5.4156e-05 - accuracy: 1.0000\n",
            "Epoch 67/100\n",
            "60/60 [==============================] - 2s 35ms/step - loss: 4.4554e-05 - accuracy: 1.0000\n",
            "Epoch 68/100\n",
            "60/60 [==============================] - 2s 36ms/step - loss: 3.6041e-05 - accuracy: 1.0000\n",
            "Epoch 69/100\n",
            "60/60 [==============================] - 2s 39ms/step - loss: 3.5426e-05 - accuracy: 1.0000\n",
            "Epoch 70/100\n",
            "60/60 [==============================] - 2s 36ms/step - loss: 2.8807e-05 - accuracy: 1.0000\n",
            "Epoch 71/100\n",
            "60/60 [==============================] - 2s 35ms/step - loss: 3.6309e-05 - accuracy: 1.0000\n",
            "Epoch 72/100\n",
            "60/60 [==============================] - 2s 35ms/step - loss: 3.4062e-05 - accuracy: 1.0000\n",
            "Epoch 73/100\n",
            "60/60 [==============================] - 2s 35ms/step - loss: 2.5867e-05 - accuracy: 1.0000\n",
            "Epoch 74/100\n",
            "60/60 [==============================] - 2s 35ms/step - loss: 2.8670e-05 - accuracy: 1.0000\n",
            "Epoch 75/100\n",
            "60/60 [==============================] - 2s 39ms/step - loss: 2.6444e-05 - accuracy: 1.0000\n",
            "Epoch 76/100\n",
            "60/60 [==============================] - 2s 38ms/step - loss: 3.5754e-05 - accuracy: 1.0000\n",
            "Epoch 77/100\n",
            "60/60 [==============================] - 2s 35ms/step - loss: 3.8577e-05 - accuracy: 1.0000\n",
            "Epoch 78/100\n",
            "60/60 [==============================] - 2s 35ms/step - loss: 3.0151e-05 - accuracy: 1.0000\n",
            "Epoch 79/100\n",
            "60/60 [==============================] - 2s 35ms/step - loss: 2.1288e-05 - accuracy: 1.0000\n",
            "Epoch 80/100\n",
            "60/60 [==============================] - 2s 35ms/step - loss: 2.1996e-05 - accuracy: 1.0000\n",
            "Epoch 81/100\n",
            "60/60 [==============================] - 2s 37ms/step - loss: 2.2799e-05 - accuracy: 1.0000\n",
            "Epoch 82/100\n",
            "60/60 [==============================] - 2s 39ms/step - loss: 2.2415e-05 - accuracy: 1.0000\n",
            "Epoch 83/100\n",
            "60/60 [==============================] - 2s 35ms/step - loss: 1.8878e-05 - accuracy: 1.0000\n",
            "Epoch 84/100\n",
            "60/60 [==============================] - 2s 35ms/step - loss: 2.2755e-05 - accuracy: 1.0000\n",
            "Epoch 85/100\n",
            "60/60 [==============================] - 2s 35ms/step - loss: 1.4202e-05 - accuracy: 1.0000\n",
            "Epoch 86/100\n",
            "60/60 [==============================] - 2s 35ms/step - loss: 1.7771e-05 - accuracy: 1.0000\n",
            "Epoch 87/100\n",
            "60/60 [==============================] - 2s 35ms/step - loss: 2.6038e-05 - accuracy: 1.0000\n",
            "Epoch 88/100\n",
            "60/60 [==============================] - 2s 39ms/step - loss: 1.6258e-05 - accuracy: 1.0000\n",
            "Epoch 89/100\n",
            "60/60 [==============================] - 2s 36ms/step - loss: 1.3426e-05 - accuracy: 1.0000\n",
            "Epoch 90/100\n",
            "60/60 [==============================] - 2s 35ms/step - loss: 1.1938e-05 - accuracy: 1.0000\n",
            "Epoch 91/100\n",
            "60/60 [==============================] - 2s 35ms/step - loss: 1.0732e-05 - accuracy: 1.0000\n",
            "Epoch 92/100\n",
            "60/60 [==============================] - 2s 35ms/step - loss: 1.2724e-05 - accuracy: 1.0000\n",
            "Epoch 93/100\n",
            "60/60 [==============================] - 2s 35ms/step - loss: 1.2750e-05 - accuracy: 1.0000\n",
            "Epoch 94/100\n",
            "60/60 [==============================] - 2s 37ms/step - loss: 1.0644e-05 - accuracy: 1.0000\n",
            "Epoch 95/100\n",
            "60/60 [==============================] - 2s 38ms/step - loss: 1.5460e-05 - accuracy: 1.0000\n",
            "Epoch 96/100\n",
            "60/60 [==============================] - 2s 35ms/step - loss: 1.0054e-05 - accuracy: 1.0000\n",
            "Epoch 97/100\n",
            "60/60 [==============================] - 2s 35ms/step - loss: 1.0122e-05 - accuracy: 1.0000\n",
            "Epoch 98/100\n",
            "60/60 [==============================] - 2s 35ms/step - loss: 1.0194e-05 - accuracy: 1.0000\n",
            "Epoch 99/100\n",
            "60/60 [==============================] - 2s 35ms/step - loss: 8.3375e-06 - accuracy: 1.0000\n",
            "Epoch 100/100\n",
            "60/60 [==============================] - 2s 35ms/step - loss: 7.7870e-06 - accuracy: 1.0000\n"
          ]
        },
        {
          "output_type": "stream",
          "name": "stderr",
          "text": [
            "/usr/local/lib/python3.10/dist-packages/keras/src/engine/training.py:3103: UserWarning: You are saving your model as an HDF5 file via `model.save()`. This file format is considered legacy. We recommend using instead the native Keras format, e.g. `model.save('my_model.keras')`.\n",
            "  saving_api.save_model(\n"
          ]
        }
      ]
    },
    {
      "cell_type": "markdown",
      "source": [
        "## **RUN THIS FOR VGG16**\n",
        "There is already a built-in model for vgg16 so we don't need to create it from scratch"
      ],
      "metadata": {
        "id": "meEU20esjQC3"
      }
    },
    {
      "cell_type": "code",
      "source": [
        "# Load VGG16 mode:\n",
        "vgg_base = tf.keras.applications.VGG16(include_top=False, input_shape=(224, 224, 3))\n",
        "#Add \"weights='imagenet'\" if we want pretrained weights\n",
        "\n",
        "\n",
        "# Freeze the pre-trained layers\n",
        "for layer in vgg_base.layers:\n",
        "    layer.trainable = True\n",
        "\n",
        "# Add custom classifier layers on top of the pre-trained layers\n",
        "x = Flatten()(vgg_base.output)\n",
        "x = Dense(4096, activation='relu')(x)\n",
        "x = Dense(4096, activation='relu')(x)\n",
        "output = Dense(3, activation='softmax')(x) #because we have 3 classes\n",
        "\n",
        "# Create the full model\n",
        "vgg_model = Model(inputs=vgg_base.input, outputs=output)\n",
        "\n",
        "# Compile the model\n",
        "optimizer = Adam(learning_rate=0.00001)\n",
        "vgg_model.compile(optimizer=optimizer, loss='categorical_crossentropy', metrics=['accuracy'])\n",
        "\n",
        "# Train the model\n",
        "vgg_model.fit(train_images, train_labels, epochs=100, batch_size=32, validation_data=(val_images, val_labels))\n",
        "vgg_model.save(file_path + \"Models/vgg_model.h5\")"
      ],
      "metadata": {
        "id": "9OkbuRdhb6_J"
      },
      "execution_count": null,
      "outputs": []
    },
    {
      "cell_type": "markdown",
      "source": [
        "## **RUN THIS FOR RESNET**"
      ],
      "metadata": {
        "id": "onGhYqXekz5D"
      }
    },
    {
      "cell_type": "code",
      "source": [
        "resnet_base = tf.keras.applications.ResNet50(include_top=False, input_shape=(224, 224, 3))\n",
        "\n",
        "# Freeze the pre-trained layers\n",
        "for layer in resnet_base.layers:\n",
        "    layer.trainable = True\n",
        "\n",
        "# Add custom classifier layers on top of the pre-trained layers\n",
        "x = Flatten()(resnet_base.output)\n",
        "x = Dense(4096, activation='relu')(x)\n",
        "x = Dense(4096, activation='relu')(x)\n",
        "output = Dense(3, activation='softmax')(x)\n",
        "\n",
        "# Create the full model\n",
        "resnet_model = Model(inputs=resnet_base.input, outputs=output)\n",
        "\n",
        "# Compile the model\n",
        "optimizer = Adam(learning_rate=0.00001)\n",
        "resnet_model.compile(optimizer=optimizer, loss='categorical_crossentropy', metrics=['accuracy'])\n",
        "\n",
        "# Train the model\n",
        "resnet_model.fit(train_images, train_labels, epochs=100, batch_size=32, validation_data=(val_images, val_labels))\n",
        "resnet_model.save(file_path + \"Models/resnet_model.h5\")"
      ],
      "metadata": {
        "id": "hbIRO78yimmO"
      },
      "execution_count": null,
      "outputs": []
    },
    {
      "cell_type": "markdown",
      "source": [
        "## **TEST THE MODEL**"
      ],
      "metadata": {
        "id": "aGAyKOJ7luwg"
      }
    },
    {
      "cell_type": "markdown",
      "source": [
        "#### Load testing dataset:"
      ],
      "metadata": {
        "id": "d9Mmfa3Pl2II"
      }
    },
    {
      "cell_type": "code",
      "source": [
        "# Load and preprocess test data\n",
        "test_images = []\n",
        "test_labels = []\n",
        "\n",
        "test_dir = file_path + '/Testing/'\n",
        "\n",
        "for class_name in classes:\n",
        "    class_dir = os.path.join(test_dir, class_name)\n",
        "    for image_name in os.listdir(class_dir):\n",
        "        image_path = os.path.join(class_dir, image_name)\n",
        "        test_images.append(resize_image(image_path))\n",
        "        test_labels.append(class_name)\n",
        "\n",
        "test_images = np.array(test_images)\n",
        "# Encode class names into numerical labels\n",
        "label_encoder = LabelEncoder()\n",
        "test_labels_encoded = label_encoder.fit_transform(test_labels)\n",
        "\n",
        "# Convert numerical labels to one-hot encoded vectors\n",
        "test_labels = to_categorical(test_labels_encoded, num_classes=3)  # Assuming 3 output classes\n",
        "\n",
        "print('shape of test data',np.shape(test_labels))"
      ],
      "metadata": {
        "colab": {
          "base_uri": "https://localhost:8080/"
        },
        "id": "Epv7ta7nC7AR",
        "outputId": "4b4e8ecd-45ad-4507-c71e-2f601d508eac"
      },
      "execution_count": 6,
      "outputs": [
        {
          "output_type": "stream",
          "name": "stdout",
          "text": [
            "shape of test data (250, 3)\n"
          ]
        }
      ]
    },
    {
      "cell_type": "markdown",
      "source": [
        "#### Testing and calculating the evalution metrics\n",
        "Don't forget to change the model on the first line:\n"
      ],
      "metadata": {
        "id": "wLSbMzagl9WV"
      }
    },
    {
      "cell_type": "code",
      "source": [
        "model = alex_model #either alex_model, vgg_model, resnet_model\n",
        "model_name = str(\"alexnet\") #change to vgg, resnet\n",
        "# Predict probabilities for test data\n",
        "y_pred_prob = model.predict(test_images)\n",
        "# Convert probabilities to class labels\n",
        "y_pred = np.argmax(y_pred_prob, axis=1)\n",
        "# Convert one-hot encoded test labels to class labels\n",
        "y_true = np.argmax(test_labels, axis=1)"
      ],
      "metadata": {
        "colab": {
          "base_uri": "https://localhost:8080/"
        },
        "id": "1dvGp9eDDOB0",
        "outputId": "b65a2a3a-3145-4084-bf99-4dcf15e7f94a"
      },
      "execution_count": 17,
      "outputs": [
        {
          "output_type": "stream",
          "name": "stdout",
          "text": [
            "8/8 [==============================] - 1s 27ms/step\n"
          ]
        }
      ]
    },
    {
      "cell_type": "code",
      "source": [
        "from sklearn.metrics import classification_report, confusion_matrix, precision_recall_fscore_support\n",
        "\n",
        "# Calculate confusion matrix\n",
        "cm = confusion_matrix(y_true, y_pred)\n",
        "\n",
        "# Normalize confusion matrix\n",
        "cm_normalized = cm.astype('float') / cm.sum(axis=1)[:, np.newaxis]\n",
        "\n",
        "# Plot normalized confusion matrix as a heatmap\n",
        "plt.figure(figsize=(8, 6))\n",
        "sns.heatmap(cm_normalized, annot=True, fmt='.2f', cmap='Blues', xticklabels=classes, yticklabels=classes)\n",
        "plt.xlabel('Predicted labels')\n",
        "plt.ylabel('True labels')\n",
        "plt.title('Normalized Confusion Matrix')\n",
        "\n",
        "# Save confusion matrix image\n",
        "plt.savefig(file_path + 'CM_'+model_name+'.png')\n",
        "\n",
        "\n",
        "# Print overall precision, recall, and F1-score\n",
        "print(\"Overall Precision:\", precision)\n",
        "print(\"Overall Recall:\", recall)\n",
        "print(\"Overall F1-Score:\", f1_score)\n",
        "\n",
        "\n",
        "from sklearn.metrics import precision_recall_fscore_support, classification_report\n",
        "\n",
        "# Calculate precision, recall, and F1-score\n",
        "precision, recall, f1_score, _ = precision_recall_fscore_support(y_true, y_pred, average='weighted')\n",
        "\n",
        "# Print classification report\n",
        "report = classification_report(y_true, y_pred, target_names=classes)\n",
        "print(\"Classification Report:\\n\", report)\n",
        "\n",
        "# Specify the file path\n",
        "file_path_1 = file_path+ \"/Metric_\"+model_name+\".txt\"\n",
        "\n",
        "# Save classification report to a text file along with precision, recall, and F1-score\n",
        "with open(file_path_1, 'w') as f:\n",
        "    f.write(\"Precision: {:.4f}\\n\".format(precision))\n",
        "    f.write(\"Recall: {:.4f}\\n\".format(recall))\n",
        "    f.write(\"F1-score: {:.4f}\\n\\n\".format(f1_score))\n",
        "    f.write(\"Classification Report:\\n\")\n",
        "    f.write(report)\n"
      ],
      "metadata": {
        "colab": {
          "base_uri": "https://localhost:8080/",
          "height": 802
        },
        "id": "MEMZSVu5pt90",
        "outputId": "d705fb03-fa06-4305-9ce0-efcc2000dc6d"
      },
      "execution_count": 19,
      "outputs": [
        {
          "output_type": "stream",
          "name": "stdout",
          "text": [
            "Overall Precision: 0.5985499431444131\n",
            "Overall Recall: 0.568\n",
            "Overall F1-Score: 0.5713056965273422\n",
            "Classification Report:\n",
            "                  precision    recall  f1-score   support\n",
            "\n",
            "     Good_class       0.61      0.45      0.52       105\n",
            "     Poor_class       0.64      0.64      0.64       123\n",
            "Very Good_class       0.33      0.73      0.45        22\n",
            "\n",
            "       accuracy                           0.57       250\n",
            "      macro avg       0.52      0.61      0.54       250\n",
            "   weighted avg       0.60      0.57      0.57       250\n",
            "\n"
          ]
        },
        {
          "output_type": "display_data",
          "data": {
            "text/plain": [
              "<Figure size 800x600 with 2 Axes>"
            ],
            "image/png": "[encoded data removed]"
          },
          "metadata": {}
        }
      ]
    },
    {
      "cell_type": "code",
      "source": [],
      "metadata": {
        "id": "FfYh8dCDutz2"
      },
      "execution_count": null,
      "outputs": []
    }
  ]
}