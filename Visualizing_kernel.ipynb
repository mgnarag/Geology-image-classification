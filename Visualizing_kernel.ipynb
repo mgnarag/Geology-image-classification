{
  "nbformat": 4,
  "nbformat_minor": 0,
  "metadata": {
    "colab": {
      "provenance": [],
      "gpuType": "T4",
      "include_colab_link": true
    },
    "kernelspec": {
      "name": "python3",
      "display_name": "Python 3"
    },
    "language_info": {
      "name": "python"
    },
    "accelerator": "GPU"
  },
  "cells": [
    {
      "cell_type": "markdown",
      "metadata": {
        "id": "view-in-github",
        "colab_type": "text"
      },
      "source": [
        "<a href=\"https://colab.research.google.com/github/mgnarag/Geology-image-classification/blob/main/Visualizing_kernel.ipynb\" target=\"_parent\"><img src=\"https://colab.research.google.com/assets/colab-badge.svg\" alt=\"Open In Colab\"/></a>"
      ]
    },
    {
      "cell_type": "markdown",
      "source": [
        "# **1.Installing packages and connecting the google drive**"
      ],
      "metadata": {
        "id": "wUGLvWc_dagj"
      }
    },
    {
      "cell_type": "code",
      "metadata": {
        "id": "TARO4TgEEggU"
      },
      "source": [
        "import torch\n",
        "import torchvision\n",
        "import torchvision.transforms as transforms\n",
        "\n",
        "import numpy as np\n",
        "import tensorflow as tf\n",
        "from tensorflow.keras.layers import Dense, Flatten, Conv2D, MaxPooling2D, Dropout\n",
        "from tensorflow.keras.models import Sequential\n",
        "from tensorflow.keras.preprocessing.image import load_img, img_to_array\n",
        "from tensorflow.keras.utils import to_categorical\n",
        "import os\n",
        "from sklearn.model_selection import train_test_split\n",
        "\n",
        "import numpy as np\n",
        "import matplotlib.pyplot as plt\n",
        "import seaborn as sns\n",
        "from sklearn.metrics import classification_report, confusion_matrix\n",
        "import pandas as pd\n",
        "\n",
        "import tensorflow as tf\n",
        "from tensorflow.keras.layers import Dense, Flatten\n",
        "from tensorflow.keras.models import Model\n",
        "from tensorflow.keras.optimizers import Adam\n",
        "\n",
        "from sklearn.preprocessing import LabelEncoder"
      ],
      "execution_count": 20,
      "outputs": []
    },
    {
      "cell_type": "markdown",
      "source": [
        "# **2. Preparing the GDrive folder**"
      ],
      "metadata": {
        "id": "vpprlUz5tOVQ"
      }
    },
    {
      "cell_type": "code",
      "metadata": {
        "id": "haxp9j83EwYN"
      },
      "source": [
        "from google.colab import drive\n",
        "drive.mount(\"/content/drive\")\n",
        "!ls drive/My\\ Drive\n",
        "file_path = \"/content/drive/MyDrive/Geology (Ate Grass)/2 classes (PPL)\""
      ],
      "execution_count": null,
      "outputs": []
    },
    {
      "cell_type": "markdown",
      "source": [
        "# **3. Visualize the kernels of the model of choice**\n",
        "\n",
        "Let's define some functions first"
      ],
      "metadata": {
        "id": "CWm6nGe5EE98"
      }
    },
    {
      "cell_type": "code",
      "source": [
        "import matplotlib.pyplot as plt\n",
        "import numpy as np\n",
        "from tensorflow.keras.models import load_model\n",
        "from tensorflow.keras.applications import VGG16, ResNet50\n",
        "\n",
        "# Function to load the model\n",
        "def load_model_by_name(model_name, file_path):\n",
        "    if model_name.lower() == \"alexnet\":\n",
        "        return load_model(file_path + '/Models/alex_model')\n",
        "    elif model_name.lower() == \"vgg\":\n",
        "        return load_model(file_path + '/Models/vgg_model')\n",
        "    elif model_name.lower() == \"resnet\":\n",
        "        return load_model(file_path + '/Models/resnet_model')\n",
        "    else:\n",
        "        raise ValueError(\"Model name not recognized. Available options: alexnet, vgg, resnet\")\n",
        "\n",
        "# Function to visualize the kernels of a specific Conv2D layer, limited to the first 20 filters\n",
        "def visualize_kernels(model, layer_index, num_filters=20):\n",
        "    # Extract the weights from the Conv2D layer\n",
        "    filters, biases = model.layers[layer_index].get_weights()\n",
        "\n",
        "    # Normalize the filter values to 0-1 so we can visualize them\n",
        "    f_min, f_max = filters.min(), filters.max()\n",
        "    filters = (filters - f_min) / (f_max - f_min)\n",
        "\n",
        "    # Get the number of filters and the number of channels\n",
        "    n_filters = min(filters.shape[3], num_filters)  # limit to num_filters\n",
        "    n_channels = filters.shape[2]\n",
        "    print(f'Displaying the first {n_filters} filters of layer {layer_index}')\n",
        "\n",
        "    # Calculate the grid size\n",
        "    fig, axes = plt.subplots(n_channels, n_filters, figsize=(n_filters, n_channels))\n",
        "\n",
        "    for i in range(n_filters):\n",
        "        # Get the filter\n",
        "        f = filters[:, :, :, i]\n",
        "\n",
        "        for j in range(n_channels):\n",
        "            ax = axes[j, i]\n",
        "            ax.imshow(f[:, :, j], cmap='viridis')\n",
        "            ax.axis('off')\n",
        "\n",
        "    plt.show()"
      ],
      "metadata": {
        "id": "8NXTDkKY-quH"
      },
      "execution_count": 22,
      "outputs": []
    },
    {
      "cell_type": "markdown",
      "source": [
        "## Then we check:"
      ],
      "metadata": {
        "id": "kFi-esdFF47m"
      }
    },
    {
      "cell_type": "code",
      "source": [
        "# Specify the model name and path\n",
        "model_name = \"resnet\"  # Change to \"alexnet\", \"vgg\", or \"resnet\"\n",
        "\n",
        "\n",
        "# Load the model\n",
        "model = load_model_by_name(model_name, file_path)\n",
        "\n",
        "# Get the layer indices for Conv2D layers\n",
        "def get_conv2d_layer_indices(model):\n",
        "    return [i for i, layer in enumerate(model.layers) if isinstance(layer, tf.keras.layers.Conv2D)]\n",
        "\n",
        "# Example: Visualize the first 20 kernels of the first Conv2D layer\n",
        "conv2d_layers = get_conv2d_layer_indices(model)\n",
        "if len(conv2d_layers) > 0:\n",
        "    visualize_kernels(model, conv2d_layers[0])\n",
        "\n",
        "# Example: Visualize the first 20 kernels of the second Conv2D layer, if it exists\n",
        "#if len(conv2d_layers) > 1:\n",
        "#    visualize_kernels(model, conv2d_layers[1])"
      ],
      "metadata": {
        "id": "HaqWARp2CYzx",
        "outputId": "f339869f-06c7-4660-a326-ad53e73d9917",
        "colab": {
          "base_uri": "https://localhost:8080/",
          "height": 242
        }
      },
      "execution_count": 23,
      "outputs": [
        {
          "output_type": "stream",
          "name": "stdout",
          "text": [
            "Displaying the first 20 filters of layer 2\n"
          ]
        },
        {
          "output_type": "display_data",
          "data": {
            "text/plain": [
              "<Figure size 2000x300 with 60 Axes>"
            ],
            "image/png": "[encoded data removed]"
          },
          "metadata": {}
        }
      ]
    }
  ]
}