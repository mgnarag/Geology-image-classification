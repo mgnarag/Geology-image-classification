{
  "nbformat": 4,
  "nbformat_minor": 0,
  "metadata": {
    "colab": {
      "provenance": [],
      "include_colab_link": true
    },
    "kernelspec": {
      "name": "python3",
      "display_name": "Python 3"
    },
    "language_info": {
      "name": "python"
    },
    "accelerator": "GPU"
  },
  "cells": [
    {
      "cell_type": "markdown",
      "metadata": {
        "id": "view-in-github",
        "colab_type": "text"
      },
      "source": [
        "<a href=\"https://colab.research.google.com/github/mgnarag/Geology-image-classification/blob/main/Model_VGG_NonTL.ipynb\" target=\"_parent\"><img src=\"https://colab.research.google.com/assets/colab-badge.svg\" alt=\"Open In Colab\"/></a>"
      ]
    },
    {
      "cell_type": "code",
      "metadata": {
        "id": "TARO4TgEEggU"
      },
      "source": [
        "import torch\n",
        "import torchvision\n",
        "import torchvision.transforms as transforms"
      ],
      "execution_count": 1,
      "outputs": []
    },
    {
      "cell_type": "code",
      "metadata": {
        "colab": {
          "base_uri": "https://localhost:8080/"
        },
        "id": "q953voK6EvI8",
        "outputId": "63e9afb7-50d7-4c87-8ab2-13841c215eac"
      },
      "source": [
        "from google.colab import drive\n",
        "drive.mount(\"/content/drive\")"
      ],
      "execution_count": 2,
      "outputs": [
        {
          "output_type": "stream",
          "name": "stdout",
          "text": [
            "Mounted at /content/drive\n"
          ]
        }
      ]
    },
    {
      "cell_type": "code",
      "metadata": {
        "id": "haxp9j83EwYN"
      },
      "source": [
        "!ls drive/My\\ Drive\n",
        "file_path = \"/content/drive/My Drive/Geology (Ate Grass)/3 classes/\""
      ],
      "execution_count": null,
      "outputs": []
    },
    {
      "cell_type": "code",
      "source": [
        "import numpy as np\n",
        "import tensorflow as tf\n",
        "from tensorflow.keras.layers import Dense, Flatten, Conv2D, MaxPooling2D, Dropout\n",
        "from tensorflow.keras.models import Sequential\n",
        "from tensorflow.keras.preprocessing.image import load_img, img_to_array\n",
        "from tensorflow.keras.utils import to_categorical\n",
        "import os\n",
        "from sklearn.model_selection import train_test_split\n",
        "\n",
        "# Function to resize images to 227x227\n",
        "def resize_image(image_path):\n",
        "    img = load_img(image_path, target_size=(224, 224))\n",
        "    img_array = img_to_array(img) / 255.0\n",
        "    return img_array\n",
        "\n",
        "# Load and preprocess training data\n",
        "train_images = []\n",
        "train_labels = []\n",
        "\n",
        "train_dir = file_path + '/Training/'\n",
        "classes = os.listdir(train_dir)\n",
        "\n",
        "for class_name in classes:\n",
        "    class_dir = os.path.join(train_dir, class_name)\n",
        "    for image_name in os.listdir(class_dir):\n",
        "        image_path = os.path.join(class_dir, image_name)\n",
        "        train_images.append(resize_image(image_path))\n",
        "        train_labels.append(class_name)\n"
      ],
      "metadata": {
        "id": "glBas97u-g_k"
      },
      "execution_count": 6,
      "outputs": []
    },
    {
      "cell_type": "code",
      "source": [
        "train_images = np.array(train_images)\n",
        "print(np.shape(train_images))\n",
        "\n",
        "from sklearn.preprocessing import LabelEncoder\n",
        "\n",
        "# Encode class names into numerical labels\n",
        "label_encoder = LabelEncoder()\n",
        "train_labels_encoded = label_encoder.fit_transform(train_labels)\n",
        "\n",
        "# Convert numerical labels to one-hot encoded vectors\n",
        "train_labels = to_categorical(train_labels_encoded, num_classes=3)\n",
        "\n",
        "print(np.shape(train_labels))\n",
        "train_images, val_images, train_labels, val_labels = train_test_split(train_images, train_labels, test_size=0.2, random_state=42)\n"
      ],
      "metadata": {
        "colab": {
          "base_uri": "https://localhost:8080/"
        },
        "id": "wPsEXFSzBtlS",
        "outputId": "5879d612-7a5e-430e-d476-6ce10684f53e"
      },
      "execution_count": 7,
      "outputs": [
        {
          "output_type": "stream",
          "name": "stdout",
          "text": [
            "(2400, 224, 224, 3)\n",
            "(2400, 3)\n"
          ]
        }
      ]
    },
    {
      "cell_type": "code",
      "source": [
        "import tensorflow as tf\n",
        "from tensorflow.keras.layers import Dense, Flatten\n",
        "from tensorflow.keras.models import Model\n",
        "from tensorflow.keras.optimizers import Adam\n",
        "\n",
        "\n",
        "# Assuming you have train_images, train_labels, val_images, val_labels defined\n",
        "\n",
        "# Load VGG16 model without pre-trained weights\n",
        "vgg_base = tf.keras.applications.VGG16(include_top=False, input_shape=(224, 224, 3))\n",
        "\n",
        "# Freeze the pre-trained layers\n",
        "for layer in vgg_base.layers:\n",
        "    layer.trainable = True\n",
        "\n",
        "# Add custom classifier layers on top of the pre-trained layers\n",
        "x = Flatten()(vgg_base.output)\n",
        "x = Dense(4096, activation='relu')(x)\n",
        "x = Dense(4096, activation='relu')(x)\n",
        "output = Dense(3, activation='softmax')(x)\n",
        "\n",
        "# Create the full model\n",
        "vgg_model = Model(inputs=vgg_base.input, outputs=output)\n",
        "\n",
        "# Compile the model\n",
        "optimizer = Adam(learning_rate=0.00001)\n",
        "vgg_model.compile(optimizer=optimizer, loss='categorical_crossentropy', metrics=['accuracy'])\n",
        "\n",
        "# Train the model\n",
        "vgg_model.fit(train_images, train_labels, epochs=100, batch_size=32, validation_data=(val_images, val_labels))\n"
      ],
      "metadata": {
        "colab": {
          "base_uri": "https://localhost:8080/"
        },
        "id": "9OkbuRdhb6_J",
        "outputId": "c948f9a5-7db9-4a22-ff2c-29771b619c33"
      },
      "execution_count": 9,
      "outputs": [
        {
          "output_type": "stream",
          "name": "stdout",
          "text": [
            "Epoch 1/100\n",
            "60/60 [==============================] - 48s 488ms/step - loss: 0.7355 - accuracy: 0.6719 - val_loss: 0.4671 - val_accuracy: 0.8146\n",
            "Epoch 2/100\n",
            "60/60 [==============================] - 28s 469ms/step - loss: 0.3055 - accuracy: 0.8839 - val_loss: 0.2616 - val_accuracy: 0.9021\n",
            "Epoch 3/100\n",
            "60/60 [==============================] - 29s 479ms/step - loss: 0.1566 - accuracy: 0.9479 - val_loss: 0.1737 - val_accuracy: 0.9333\n",
            "Epoch 4/100\n",
            "60/60 [==============================] - 28s 471ms/step - loss: 0.0872 - accuracy: 0.9724 - val_loss: 0.1807 - val_accuracy: 0.9250\n",
            "Epoch 5/100\n",
            "60/60 [==============================] - 29s 482ms/step - loss: 0.0298 - accuracy: 0.9927 - val_loss: 0.1714 - val_accuracy: 0.9271\n",
            "Epoch 6/100\n",
            "60/60 [==============================] - 29s 480ms/step - loss: 0.0148 - accuracy: 0.9958 - val_loss: 0.1352 - val_accuracy: 0.9542\n",
            "Epoch 7/100\n",
            "60/60 [==============================] - 28s 471ms/step - loss: 0.0202 - accuracy: 0.9953 - val_loss: 0.1762 - val_accuracy: 0.9417\n",
            "Epoch 8/100\n",
            "60/60 [==============================] - 28s 471ms/step - loss: 0.0427 - accuracy: 0.9849 - val_loss: 0.1537 - val_accuracy: 0.9396\n",
            "Epoch 9/100\n",
            "60/60 [==============================] - 28s 470ms/step - loss: 0.0329 - accuracy: 0.9880 - val_loss: 0.1605 - val_accuracy: 0.9438\n",
            "Epoch 10/100\n",
            "60/60 [==============================] - 28s 470ms/step - loss: 0.0064 - accuracy: 0.9984 - val_loss: 0.1410 - val_accuracy: 0.9417\n",
            "Epoch 11/100\n",
            "60/60 [==============================] - 28s 470ms/step - loss: 0.0012 - accuracy: 1.0000 - val_loss: 0.1081 - val_accuracy: 0.9563\n",
            "Epoch 12/100\n",
            "60/60 [==============================] - 28s 470ms/step - loss: 4.5247e-04 - accuracy: 1.0000 - val_loss: 0.1118 - val_accuracy: 0.9625\n",
            "Epoch 13/100\n",
            "60/60 [==============================] - 29s 481ms/step - loss: 3.2509e-04 - accuracy: 1.0000 - val_loss: 0.1104 - val_accuracy: 0.9625\n",
            "Epoch 14/100\n",
            "60/60 [==============================] - 29s 480ms/step - loss: 2.5325e-04 - accuracy: 1.0000 - val_loss: 0.1111 - val_accuracy: 0.9563\n",
            "Epoch 15/100\n",
            "60/60 [==============================] - 29s 480ms/step - loss: 2.0163e-04 - accuracy: 1.0000 - val_loss: 0.1129 - val_accuracy: 0.9604\n",
            "Epoch 16/100\n",
            "60/60 [==============================] - 28s 470ms/step - loss: 1.6421e-04 - accuracy: 1.0000 - val_loss: 0.1141 - val_accuracy: 0.9583\n",
            "Epoch 17/100\n",
            "60/60 [==============================] - 29s 482ms/step - loss: 1.3493e-04 - accuracy: 1.0000 - val_loss: 0.1154 - val_accuracy: 0.9604\n",
            "Epoch 18/100\n",
            "60/60 [==============================] - 28s 470ms/step - loss: 1.1534e-04 - accuracy: 1.0000 - val_loss: 0.1147 - val_accuracy: 0.9583\n",
            "Epoch 19/100\n",
            "60/60 [==============================] - 29s 481ms/step - loss: 9.4896e-05 - accuracy: 1.0000 - val_loss: 0.1153 - val_accuracy: 0.9604\n",
            "Epoch 20/100\n",
            "60/60 [==============================] - 28s 470ms/step - loss: 8.2008e-05 - accuracy: 1.0000 - val_loss: 0.1177 - val_accuracy: 0.9563\n",
            "Epoch 21/100\n",
            "60/60 [==============================] - 29s 481ms/step - loss: 6.9475e-05 - accuracy: 1.0000 - val_loss: 0.1186 - val_accuracy: 0.9563\n",
            "Epoch 22/100\n",
            "60/60 [==============================] - 29s 481ms/step - loss: 6.0127e-05 - accuracy: 1.0000 - val_loss: 0.1202 - val_accuracy: 0.9563\n",
            "Epoch 23/100\n",
            "60/60 [==============================] - 28s 470ms/step - loss: 5.1868e-05 - accuracy: 1.0000 - val_loss: 0.1202 - val_accuracy: 0.9563\n",
            "Epoch 24/100\n",
            "60/60 [==============================] - 29s 481ms/step - loss: 4.5255e-05 - accuracy: 1.0000 - val_loss: 0.1216 - val_accuracy: 0.9563\n",
            "Epoch 25/100\n",
            "60/60 [==============================] - 28s 470ms/step - loss: 3.9153e-05 - accuracy: 1.0000 - val_loss: 0.1239 - val_accuracy: 0.9583\n",
            "Epoch 26/100\n",
            "60/60 [==============================] - 28s 470ms/step - loss: 3.4691e-05 - accuracy: 1.0000 - val_loss: 0.1233 - val_accuracy: 0.9583\n",
            "Epoch 27/100\n",
            "60/60 [==============================] - 29s 481ms/step - loss: 3.0306e-05 - accuracy: 1.0000 - val_loss: 0.1255 - val_accuracy: 0.9542\n",
            "Epoch 28/100\n",
            "60/60 [==============================] - 29s 480ms/step - loss: 2.6736e-05 - accuracy: 1.0000 - val_loss: 0.1262 - val_accuracy: 0.9563\n",
            "Epoch 29/100\n",
            "60/60 [==============================] - 28s 471ms/step - loss: 2.4213e-05 - accuracy: 1.0000 - val_loss: 0.1275 - val_accuracy: 0.9542\n",
            "Epoch 30/100\n",
            "60/60 [==============================] - 28s 471ms/step - loss: 2.1416e-05 - accuracy: 1.0000 - val_loss: 0.1281 - val_accuracy: 0.9542\n",
            "Epoch 31/100\n",
            "60/60 [==============================] - 28s 470ms/step - loss: 1.9139e-05 - accuracy: 1.0000 - val_loss: 0.1285 - val_accuracy: 0.9563\n",
            "Epoch 32/100\n",
            "60/60 [==============================] - 28s 470ms/step - loss: 1.7222e-05 - accuracy: 1.0000 - val_loss: 0.1306 - val_accuracy: 0.9542\n",
            "Epoch 33/100\n",
            "60/60 [==============================] - 28s 470ms/step - loss: 1.5591e-05 - accuracy: 1.0000 - val_loss: 0.1310 - val_accuracy: 0.9542\n",
            "Epoch 34/100\n",
            "60/60 [==============================] - 28s 470ms/step - loss: 1.4340e-05 - accuracy: 1.0000 - val_loss: 0.1323 - val_accuracy: 0.9521\n",
            "Epoch 35/100\n",
            "60/60 [==============================] - 29s 481ms/step - loss: 1.2848e-05 - accuracy: 1.0000 - val_loss: 0.1331 - val_accuracy: 0.9500\n",
            "Epoch 36/100\n",
            "60/60 [==============================] - 29s 481ms/step - loss: 1.1665e-05 - accuracy: 1.0000 - val_loss: 0.1343 - val_accuracy: 0.9500\n",
            "Epoch 37/100\n",
            "60/60 [==============================] - 28s 472ms/step - loss: 1.0876e-05 - accuracy: 1.0000 - val_loss: 0.1340 - val_accuracy: 0.9542\n",
            "Epoch 38/100\n",
            "60/60 [==============================] - 29s 481ms/step - loss: 9.8225e-06 - accuracy: 1.0000 - val_loss: 0.1346 - val_accuracy: 0.9542\n",
            "Epoch 39/100\n",
            "60/60 [==============================] - 28s 470ms/step - loss: 8.9290e-06 - accuracy: 1.0000 - val_loss: 0.1364 - val_accuracy: 0.9500\n",
            "Epoch 40/100\n",
            "60/60 [==============================] - 28s 470ms/step - loss: 8.4920e-06 - accuracy: 1.0000 - val_loss: 0.1367 - val_accuracy: 0.9521\n",
            "Epoch 41/100\n",
            "60/60 [==============================] - 29s 481ms/step - loss: 7.6755e-06 - accuracy: 1.0000 - val_loss: 0.1376 - val_accuracy: 0.9521\n",
            "Epoch 42/100\n",
            "60/60 [==============================] - 28s 471ms/step - loss: 7.0505e-06 - accuracy: 1.0000 - val_loss: 0.1393 - val_accuracy: 0.9479\n",
            "Epoch 43/100\n",
            "60/60 [==============================] - 28s 470ms/step - loss: 6.5996e-06 - accuracy: 1.0000 - val_loss: 0.1383 - val_accuracy: 0.9521\n",
            "Epoch 44/100\n",
            "60/60 [==============================] - 28s 470ms/step - loss: 6.0718e-06 - accuracy: 1.0000 - val_loss: 0.1394 - val_accuracy: 0.9521\n",
            "Epoch 45/100\n",
            "60/60 [==============================] - 28s 470ms/step - loss: 5.6798e-06 - accuracy: 1.0000 - val_loss: 0.1394 - val_accuracy: 0.9500\n",
            "Epoch 46/100\n",
            "60/60 [==============================] - 28s 470ms/step - loss: 5.2537e-06 - accuracy: 1.0000 - val_loss: 0.1410 - val_accuracy: 0.9500\n",
            "Epoch 47/100\n",
            "60/60 [==============================] - 28s 470ms/step - loss: 4.9075e-06 - accuracy: 1.0000 - val_loss: 0.1415 - val_accuracy: 0.9500\n",
            "Epoch 48/100\n",
            "60/60 [==============================] - 28s 469ms/step - loss: 4.6067e-06 - accuracy: 1.0000 - val_loss: 0.1447 - val_accuracy: 0.9479\n",
            "Epoch 49/100\n",
            "60/60 [==============================] - 29s 481ms/step - loss: 4.3756e-06 - accuracy: 1.0000 - val_loss: 0.1430 - val_accuracy: 0.9521\n",
            "Epoch 50/100\n",
            "60/60 [==============================] - 28s 470ms/step - loss: 4.0291e-06 - accuracy: 1.0000 - val_loss: 0.1435 - val_accuracy: 0.9500\n",
            "Epoch 51/100\n",
            "60/60 [==============================] - 29s 481ms/step - loss: 3.7447e-06 - accuracy: 1.0000 - val_loss: 0.1443 - val_accuracy: 0.9521\n",
            "Epoch 52/100\n",
            "60/60 [==============================] - 28s 471ms/step - loss: 3.5590e-06 - accuracy: 1.0000 - val_loss: 0.1446 - val_accuracy: 0.9500\n",
            "Epoch 53/100\n",
            "60/60 [==============================] - 29s 481ms/step - loss: 3.3461e-06 - accuracy: 1.0000 - val_loss: 0.1455 - val_accuracy: 0.9500\n",
            "Epoch 54/100\n",
            "60/60 [==============================] - 28s 470ms/step - loss: 3.1195e-06 - accuracy: 1.0000 - val_loss: 0.1462 - val_accuracy: 0.9500\n",
            "Epoch 55/100\n",
            "60/60 [==============================] - 28s 470ms/step - loss: 2.9402e-06 - accuracy: 1.0000 - val_loss: 0.1466 - val_accuracy: 0.9521\n",
            "Epoch 56/100\n",
            "60/60 [==============================] - 29s 481ms/step - loss: 2.7547e-06 - accuracy: 1.0000 - val_loss: 0.1472 - val_accuracy: 0.9500\n",
            "Epoch 57/100\n",
            "60/60 [==============================] - 29s 481ms/step - loss: 2.6187e-06 - accuracy: 1.0000 - val_loss: 0.1473 - val_accuracy: 0.9500\n",
            "Epoch 58/100\n",
            "60/60 [==============================] - 29s 481ms/step - loss: 2.4865e-06 - accuracy: 1.0000 - val_loss: 0.1479 - val_accuracy: 0.9521\n",
            "Epoch 59/100\n",
            "60/60 [==============================] - 28s 470ms/step - loss: 2.3337e-06 - accuracy: 1.0000 - val_loss: 0.1486 - val_accuracy: 0.9521\n",
            "Epoch 60/100\n",
            "60/60 [==============================] - 28s 470ms/step - loss: 2.2000e-06 - accuracy: 1.0000 - val_loss: 0.1489 - val_accuracy: 0.9521\n",
            "Epoch 61/100\n",
            "60/60 [==============================] - 28s 470ms/step - loss: 2.0906e-06 - accuracy: 1.0000 - val_loss: 0.1491 - val_accuracy: 0.9521\n",
            "Epoch 62/100\n",
            "60/60 [==============================] - 28s 470ms/step - loss: 1.9596e-06 - accuracy: 1.0000 - val_loss: 0.1502 - val_accuracy: 0.9521\n",
            "Epoch 63/100\n",
            "60/60 [==============================] - 29s 481ms/step - loss: 1.8569e-06 - accuracy: 1.0000 - val_loss: 0.1503 - val_accuracy: 0.9521\n",
            "Epoch 64/100\n",
            "60/60 [==============================] - 28s 471ms/step - loss: 1.7702e-06 - accuracy: 1.0000 - val_loss: 0.1503 - val_accuracy: 0.9521\n",
            "Epoch 65/100\n",
            "60/60 [==============================] - 29s 481ms/step - loss: 1.6861e-06 - accuracy: 1.0000 - val_loss: 0.1513 - val_accuracy: 0.9521\n",
            "Epoch 66/100\n",
            "60/60 [==============================] - 28s 470ms/step - loss: 1.5926e-06 - accuracy: 1.0000 - val_loss: 0.1519 - val_accuracy: 0.9521\n",
            "Epoch 67/100\n",
            "60/60 [==============================] - 28s 470ms/step - loss: 1.5164e-06 - accuracy: 1.0000 - val_loss: 0.1527 - val_accuracy: 0.9500\n",
            "Epoch 68/100\n",
            "60/60 [==============================] - 29s 480ms/step - loss: 1.4465e-06 - accuracy: 1.0000 - val_loss: 0.1523 - val_accuracy: 0.9521\n",
            "Epoch 69/100\n",
            "60/60 [==============================] - 28s 470ms/step - loss: 1.3743e-06 - accuracy: 1.0000 - val_loss: 0.1532 - val_accuracy: 0.9521\n",
            "Epoch 70/100\n",
            "60/60 [==============================] - 28s 470ms/step - loss: 1.2997e-06 - accuracy: 1.0000 - val_loss: 0.1535 - val_accuracy: 0.9521\n",
            "Epoch 71/100\n",
            "60/60 [==============================] - 29s 481ms/step - loss: 1.2450e-06 - accuracy: 1.0000 - val_loss: 0.1542 - val_accuracy: 0.9500\n",
            "Epoch 72/100\n",
            "60/60 [==============================] - 29s 480ms/step - loss: 1.1815e-06 - accuracy: 1.0000 - val_loss: 0.1547 - val_accuracy: 0.9500\n",
            "Epoch 73/100\n",
            "60/60 [==============================] - 28s 470ms/step - loss: 1.1341e-06 - accuracy: 1.0000 - val_loss: 0.1545 - val_accuracy: 0.9521\n",
            "Epoch 74/100\n",
            "60/60 [==============================] - 28s 470ms/step - loss: 1.0792e-06 - accuracy: 1.0000 - val_loss: 0.1549 - val_accuracy: 0.9500\n",
            "Epoch 75/100\n",
            "60/60 [==============================] - 29s 481ms/step - loss: 1.0302e-06 - accuracy: 1.0000 - val_loss: 0.1555 - val_accuracy: 0.9521\n",
            "Epoch 76/100\n",
            "60/60 [==============================] - 28s 470ms/step - loss: 9.8161e-07 - accuracy: 1.0000 - val_loss: 0.1559 - val_accuracy: 0.9521\n",
            "Epoch 77/100\n",
            "60/60 [==============================] - 28s 470ms/step - loss: 9.3635e-07 - accuracy: 1.0000 - val_loss: 0.1572 - val_accuracy: 0.9500\n",
            "Epoch 78/100\n",
            "60/60 [==============================] - 29s 480ms/step - loss: 9.0530e-07 - accuracy: 1.0000 - val_loss: 0.1564 - val_accuracy: 0.9521\n",
            "Epoch 79/100\n",
            "60/60 [==============================] - 28s 470ms/step - loss: 8.6526e-07 - accuracy: 1.0000 - val_loss: 0.1571 - val_accuracy: 0.9521\n",
            "Epoch 80/100\n",
            "60/60 [==============================] - 28s 471ms/step - loss: 8.2658e-07 - accuracy: 1.0000 - val_loss: 0.1571 - val_accuracy: 0.9521\n",
            "Epoch 81/100\n",
            "60/60 [==============================] - 28s 470ms/step - loss: 7.8516e-07 - accuracy: 1.0000 - val_loss: 0.1579 - val_accuracy: 0.9521\n",
            "Epoch 82/100\n",
            "60/60 [==============================] - 28s 470ms/step - loss: 7.6188e-07 - accuracy: 1.0000 - val_loss: 0.1582 - val_accuracy: 0.9542\n",
            "Epoch 83/100\n",
            "60/60 [==============================] - 28s 469ms/step - loss: 7.2488e-07 - accuracy: 1.0000 - val_loss: 0.1594 - val_accuracy: 0.9500\n",
            "Epoch 84/100\n",
            "60/60 [==============================] - 28s 470ms/step - loss: 6.9924e-07 - accuracy: 1.0000 - val_loss: 0.1589 - val_accuracy: 0.9521\n",
            "Epoch 85/100\n",
            "60/60 [==============================] - 29s 480ms/step - loss: 6.6881e-07 - accuracy: 1.0000 - val_loss: 0.1596 - val_accuracy: 0.9521\n",
            "Epoch 86/100\n",
            "60/60 [==============================] - 29s 481ms/step - loss: 6.3671e-07 - accuracy: 1.0000 - val_loss: 0.1595 - val_accuracy: 0.9521\n",
            "Epoch 87/100\n",
            "60/60 [==============================] - 29s 481ms/step - loss: 6.1368e-07 - accuracy: 1.0000 - val_loss: 0.1603 - val_accuracy: 0.9521\n",
            "Epoch 88/100\n",
            "60/60 [==============================] - 28s 470ms/step - loss: 5.8742e-07 - accuracy: 1.0000 - val_loss: 0.1605 - val_accuracy: 0.9521\n",
            "Epoch 89/100\n",
            "60/60 [==============================] - 28s 470ms/step - loss: 5.6339e-07 - accuracy: 1.0000 - val_loss: 0.1609 - val_accuracy: 0.9521\n",
            "Epoch 90/100\n",
            "60/60 [==============================] - 28s 470ms/step - loss: 5.5209e-07 - accuracy: 1.0000 - val_loss: 0.1615 - val_accuracy: 0.9521\n",
            "Epoch 91/100\n",
            "60/60 [==============================] - 28s 471ms/step - loss: 5.2011e-07 - accuracy: 1.0000 - val_loss: 0.1619 - val_accuracy: 0.9521\n",
            "Epoch 92/100\n",
            "60/60 [==============================] - 28s 471ms/step - loss: 5.0018e-07 - accuracy: 1.0000 - val_loss: 0.1619 - val_accuracy: 0.9521\n",
            "Epoch 93/100\n",
            "60/60 [==============================] - 29s 480ms/step - loss: 4.8429e-07 - accuracy: 1.0000 - val_loss: 0.1621 - val_accuracy: 0.9521\n",
            "Epoch 94/100\n",
            "60/60 [==============================] - 29s 481ms/step - loss: 4.6610e-07 - accuracy: 1.0000 - val_loss: 0.1629 - val_accuracy: 0.9521\n",
            "Epoch 95/100\n",
            "60/60 [==============================] - 28s 470ms/step - loss: 4.4585e-07 - accuracy: 1.0000 - val_loss: 0.1632 - val_accuracy: 0.9521\n",
            "Epoch 96/100\n",
            "60/60 [==============================] - 28s 471ms/step - loss: 4.3319e-07 - accuracy: 1.0000 - val_loss: 0.1636 - val_accuracy: 0.9521\n",
            "Epoch 97/100\n",
            "60/60 [==============================] - 28s 470ms/step - loss: 4.1189e-07 - accuracy: 1.0000 - val_loss: 0.1644 - val_accuracy: 0.9500\n",
            "Epoch 98/100\n",
            "60/60 [==============================] - 28s 470ms/step - loss: 3.9848e-07 - accuracy: 1.0000 - val_loss: 0.1641 - val_accuracy: 0.9521\n",
            "Epoch 99/100\n",
            "60/60 [==============================] - 28s 470ms/step - loss: 3.8569e-07 - accuracy: 1.0000 - val_loss: 0.1650 - val_accuracy: 0.9500\n",
            "Epoch 100/100\n",
            "60/60 [==============================] - 28s 470ms/step - loss: 3.6818e-07 - accuracy: 1.0000 - val_loss: 0.1652 - val_accuracy: 0.9521\n"
          ]
        },
        {
          "output_type": "execute_result",
          "data": {
            "text/plain": [
              "<keras.src.callbacks.History at 0x7a382453b250>"
            ]
          },
          "metadata": {},
          "execution_count": 9
        }
      ]
    },
    {
      "cell_type": "code",
      "source": [],
      "metadata": {
        "id": "vxJDCn9OlLyW"
      },
      "execution_count": null,
      "outputs": []
    },
    {
      "cell_type": "code",
      "source": [
        "\n",
        "# Load and preprocess test data\n",
        "test_images = []\n",
        "test_labels = []\n",
        "\n",
        "test_dir = file_path + '/Testing/'\n",
        "\n",
        "for class_name in classes:\n",
        "    class_dir = os.path.join(test_dir, class_name)\n",
        "    for image_name in os.listdir(class_dir):\n",
        "        image_path = os.path.join(class_dir, image_name)\n",
        "        test_images.append(resize_image(image_path))\n",
        "        test_labels.append(class_name)\n",
        "\n",
        "test_images = np.array(test_images)\n",
        "# Encode class names into numerical labels\n",
        "label_encoder = LabelEncoder()\n",
        "test_labels_encoded = label_encoder.fit_transform(test_labels)\n",
        "\n",
        "# Convert numerical labels to one-hot encoded vectors\n",
        "test_labels = to_categorical(test_labels_encoded, num_classes=3)  # Assuming 3 output classes\n",
        "\n",
        "print(np.shape(test_labels))\n",
        "\n"
      ],
      "metadata": {
        "colab": {
          "base_uri": "https://localhost:8080/"
        },
        "id": "Epv7ta7nC7AR",
        "outputId": "8ac8131c-cf31-41c7-a764-c6ad33a55a68"
      },
      "execution_count": 10,
      "outputs": [
        {
          "output_type": "stream",
          "name": "stdout",
          "text": [
            "(250, 3)\n"
          ]
        }
      ]
    },
    {
      "cell_type": "code",
      "source": [
        "import numpy as np\n",
        "import matplotlib.pyplot as plt\n",
        "import seaborn as sns\n",
        "from sklearn.metrics import classification_report, confusion_matrix\n",
        "import pandas as pd\n",
        "\n",
        "model = vgg_model\n",
        "# Predict probabilities for test data\n",
        "y_pred_prob = model.predict(test_images)\n",
        "# Convert probabilities to class labels\n",
        "y_pred = np.argmax(y_pred_prob, axis=1)\n",
        "# Convert one-hot encoded test labels to class labels\n",
        "y_true = np.argmax(test_labels, axis=1)\n",
        "\n",
        "# Calculate precision, recall, and F1-score\n",
        "report = classification_report(y_true, y_pred, target_names=classes)\n",
        "print(\"Classification Report:\\n\", report)\n",
        "\n",
        "# Save classification report to a text file\n",
        "with open('classification_report.txt', 'w') as f:\n",
        "    f.write(report)\n",
        "\n",
        "# Parse classification report into DataFrame\n",
        "report_data = []\n",
        "lines = report.split('\\n')\n",
        "for line in lines[2:-5]:\n",
        "    row_data = line.split()\n",
        "    if len(row_data) == 5:\n",
        "        row_data = [row_data[0], *map(float, row_data[1:])]\n",
        "        report_data.append(row_data)\n",
        "\n",
        "# Convert classification report to DataFrame\n",
        "metrics_df = pd.DataFrame(report_data, columns=['Class', 'Precision', 'Recall', 'F1-Score', 'Support'])\n",
        "\n",
        "# Save classification report to Excel\n",
        "metrics_df.to_excel(file_path + 'classification_report_nonTL.xlsx', index=False)\n",
        "\n",
        "# Calculate confusion matrix\n",
        "cm = confusion_matrix(y_true, y_pred)\n",
        "\n",
        "# Plot confusion matrix as a heatmap\n",
        "plt.figure(figsize=(8, 6))\n",
        "sns.heatmap(cm, annot=True, fmt='d', cmap='Blues', xticklabels=classes, yticklabels=classes)\n",
        "plt.xlabel('Predicted labels')\n",
        "plt.ylabel('True labels')\n",
        "plt.title('Confusion Matrix')\n",
        "plt.savefig(file_path + 'confusion_matrix_nonTL.png')  # Save confusion matrix image\n",
        "\n",
        "# Convert confusion matrix to DataFrame\n",
        "df_cm = pd.DataFrame(cm, index=classes, columns=classes)\n",
        "\n",
        "# Save confusion matrix to Excel\n",
        "df_cm.to_excel(file_path + 'confusion_matrix_nonTL.xlsx')\n"
      ],
      "metadata": {
        "colab": {
          "base_uri": "https://localhost:8080/",
          "height": 768
        },
        "id": "1dvGp9eDDOB0",
        "outputId": "fa48ceea-3cc0-4a9e-e442-25ef74be8c0e"
      },
      "execution_count": 11,
      "outputs": [
        {
          "output_type": "stream",
          "name": "stdout",
          "text": [
            "8/8 [==============================] - 7s 958ms/step\n",
            "Classification Report:\n",
            "                  precision    recall  f1-score   support\n",
            "\n",
            "     Good_class       0.87      0.70      0.78       105\n",
            "     Poor_class       0.88      0.91      0.89       123\n",
            "Very Good_class       0.38      0.64      0.47        22\n",
            "\n",
            "       accuracy                           0.80       250\n",
            "      macro avg       0.71      0.75      0.72       250\n",
            "   weighted avg       0.83      0.80      0.81       250\n",
            "\n"
          ]
        },
        {
          "output_type": "display_data",
          "data": {
            "text/plain": [
              "<Figure size 800x600 with 2 Axes>"
            ],
            "image/png": "[encoded data removed]"
          },
          "metadata": {}
        }
      ]
    },
    {
      "cell_type": "code",
      "source": [],
      "metadata": {
        "id": "UDPfPOW-JgUW"
      },
      "execution_count": null,
      "outputs": []
    }
  ]
}