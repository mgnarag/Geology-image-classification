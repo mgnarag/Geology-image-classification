{
  "nbformat": 4,
  "nbformat_minor": 0,
  "metadata": {
    "colab": {
      "provenance": [],
      "include_colab_link": true
    },
    "kernelspec": {
      "name": "python3",
      "display_name": "Python 3"
    },
    "language_info": {
      "name": "python"
    },
    "accelerator": "GPU"
  },
  "cells": [
    {
      "cell_type": "markdown",
      "metadata": {
        "id": "view-in-github",
        "colab_type": "text"
      },
      "source": [
        "<a href=\"https://colab.research.google.com/github/mgnarag/Geology-image-classification/blob/main/Model.ipynb\" target=\"_parent\"><img src=\"https://colab.research.google.com/assets/colab-badge.svg\" alt=\"Open In Colab\"/></a>"
      ]
    },
    {
      "cell_type": "code",
      "metadata": {
        "id": "TARO4TgEEggU"
      },
      "source": [
        "import torch\n",
        "import torchvision\n",
        "import torchvision.transforms as transforms"
      ],
      "execution_count": 1,
      "outputs": []
    },
    {
      "cell_type": "code",
      "metadata": {
        "colab": {
          "base_uri": "https://localhost:8080/"
        },
        "id": "q953voK6EvI8",
        "outputId": "babe482c-f801-42c3-8185-b10e66d2aedf"
      },
      "source": [
        "from google.colab import drive\n",
        "drive.mount(\"/content/drive\")"
      ],
      "execution_count": 2,
      "outputs": [
        {
          "output_type": "stream",
          "name": "stdout",
          "text": [
            "Drive already mounted at /content/drive; to attempt to forcibly remount, call drive.mount(\"/content/drive\", force_remount=True).\n"
          ]
        }
      ]
    },
    {
      "cell_type": "code",
      "metadata": {
        "id": "haxp9j83EwYN"
      },
      "source": [
        "!ls drive/My\\ Drive\n",
        "file_path = \"/content/drive/My Drive/Geology (Ate Grass)/3 classes/\""
      ],
      "execution_count": null,
      "outputs": []
    },
    {
      "cell_type": "code",
      "source": [
        "import numpy as np\n",
        "import tensorflow as tf\n",
        "from tensorflow.keras.layers import Dense, Flatten, Conv2D, MaxPooling2D, Dropout\n",
        "from tensorflow.keras.models import Sequential\n",
        "from tensorflow.keras.preprocessing.image import load_img, img_to_array\n",
        "from tensorflow.keras.utils import to_categorical\n",
        "import os\n",
        "\n",
        "# Function to resize images to 227x227\n",
        "def resize_image(image_path):\n",
        "    img = load_img(image_path, target_size=(227, 227))\n",
        "    img_array = img_to_array(img) / 255.0\n",
        "    return img_array\n",
        "\n",
        "# Load and preprocess training data\n",
        "train_images = []\n",
        "train_labels = []\n",
        "\n",
        "train_dir = file_path + '/Training/'\n",
        "classes = os.listdir(train_dir)\n",
        "\n",
        "for class_name in classes:\n",
        "    class_dir = os.path.join(train_dir, class_name)\n",
        "    for image_name in os.listdir(class_dir):\n",
        "        image_path = os.path.join(class_dir, image_name)\n",
        "        train_images.append(resize_image(image_path))\n",
        "        train_labels.append(class_name)\n"
      ],
      "metadata": {
        "id": "glBas97u-g_k"
      },
      "execution_count": 4,
      "outputs": []
    },
    {
      "cell_type": "code",
      "source": [
        "train_images = np.array(train_images)\n",
        "print(np.shape(train_images))\n",
        "\n",
        "from sklearn.preprocessing import LabelEncoder\n",
        "\n",
        "# Encode class names into numerical labels\n",
        "label_encoder = LabelEncoder()\n",
        "train_labels_encoded = label_encoder.fit_transform(train_labels)\n",
        "\n",
        "# Convert numerical labels to one-hot encoded vectors\n",
        "train_labels = to_categorical(train_labels_encoded, num_classes=3)\n",
        "\n",
        "print(np.shape(train_labels))"
      ],
      "metadata": {
        "colab": {
          "base_uri": "https://localhost:8080/"
        },
        "id": "wPsEXFSzBtlS",
        "outputId": "0b93b096-adde-477c-b1ca-173641d9df74"
      },
      "execution_count": 5,
      "outputs": [
        {
          "output_type": "stream",
          "name": "stdout",
          "text": [
            "(2400, 227, 227, 3)\n",
            "(2400, 3)\n"
          ]
        }
      ]
    },
    {
      "cell_type": "code",
      "source": [
        "#AlexNet architecture from scratch\n",
        "model = Sequential([\n",
        "    Conv2D(96, kernel_size=(11,11), strides=(4,4), activation='relu', input_shape=(227, 227, 3)),\n",
        "    MaxPooling2D(pool_size=(3,3), strides=(2,2)),\n",
        "    Conv2D(256, kernel_size=(5,5), activation='relu'),\n",
        "    MaxPooling2D(pool_size=(3,3), strides=(2,2)),\n",
        "    Conv2D(384, kernel_size=(3,3), activation='relu'),\n",
        "    Conv2D(384, kernel_size=(3,3), activation='relu'),\n",
        "    Conv2D(256, kernel_size=(3,3), activation='relu'),\n",
        "    MaxPooling2D(pool_size=(3,3), strides=(2,2)),\n",
        "    Flatten(),\n",
        "    Dense(4096, activation='relu'),\n",
        "    Dropout(0.5),\n",
        "    Dense(4096, activation='relu'),\n",
        "    Dropout(0.5),\n",
        "    Dense(3, activation='softmax')\n",
        "])\n",
        "\n",
        "\n",
        "from tensorflow.keras.optimizers import Adam\n",
        "\n",
        "optimizer = Adam(learning_rate=0.0001)\n",
        "\n",
        "model.compile(optimizer=optimizer, loss='categorical_crossentropy', metrics=['accuracy'])\n",
        "# Train  model\n",
        "model.fit(train_images, train_labels, epochs=100, batch_size=32)"
      ],
      "metadata": {
        "colab": {
          "base_uri": "https://localhost:8080/"
        },
        "id": "FFlTSInvBQR-",
        "outputId": "1231c58c-8fef-4e08-ba12-cc2ee8478f7f"
      },
      "execution_count": 11,
      "outputs": [
        {
          "output_type": "stream",
          "name": "stdout",
          "text": [
            "Epoch 1/100\n",
            "75/75 [==============================] - 6s 43ms/step - loss: 1.1009 - accuracy: 0.3225\n",
            "Epoch 2/100\n",
            "75/75 [==============================] - 3s 39ms/step - loss: 1.0991 - accuracy: 0.3338\n",
            "Epoch 3/100\n",
            "75/75 [==============================] - 3s 35ms/step - loss: 1.0938 - accuracy: 0.3721\n",
            "Epoch 4/100\n",
            "75/75 [==============================] - 3s 35ms/step - loss: 1.0675 - accuracy: 0.4046\n",
            "Epoch 5/100\n",
            "75/75 [==============================] - 3s 36ms/step - loss: 1.0102 - accuracy: 0.4771\n",
            "Epoch 6/100\n",
            "75/75 [==============================] - 3s 37ms/step - loss: 0.8896 - accuracy: 0.5633\n",
            "Epoch 7/100\n",
            "75/75 [==============================] - 3s 39ms/step - loss: 0.8254 - accuracy: 0.5871\n",
            "Epoch 8/100\n",
            "75/75 [==============================] - 3s 36ms/step - loss: 0.7376 - accuracy: 0.6679\n",
            "Epoch 9/100\n",
            "75/75 [==============================] - 3s 36ms/step - loss: 0.6744 - accuracy: 0.7017\n",
            "Epoch 10/100\n",
            "75/75 [==============================] - 3s 35ms/step - loss: 0.5689 - accuracy: 0.7663\n",
            "Epoch 11/100\n",
            "75/75 [==============================] - 3s 38ms/step - loss: 0.5489 - accuracy: 0.7783\n",
            "Epoch 12/100\n",
            "75/75 [==============================] - 3s 39ms/step - loss: 0.4794 - accuracy: 0.8058\n",
            "Epoch 13/100\n",
            "75/75 [==============================] - 3s 36ms/step - loss: 0.4002 - accuracy: 0.8496\n",
            "Epoch 14/100\n",
            "75/75 [==============================] - 3s 36ms/step - loss: 0.3581 - accuracy: 0.8625\n",
            "Epoch 15/100\n",
            "75/75 [==============================] - 3s 35ms/step - loss: 0.3166 - accuracy: 0.8800\n",
            "Epoch 16/100\n",
            "75/75 [==============================] - 3s 38ms/step - loss: 0.2468 - accuracy: 0.9179\n",
            "Epoch 17/100\n",
            "75/75 [==============================] - 3s 43ms/step - loss: 0.2355 - accuracy: 0.9146\n",
            "Epoch 18/100\n",
            "75/75 [==============================] - 3s 40ms/step - loss: 0.1742 - accuracy: 0.9404\n",
            "Epoch 19/100\n",
            "75/75 [==============================] - 3s 36ms/step - loss: 0.1065 - accuracy: 0.9654\n",
            "Epoch 20/100\n",
            "75/75 [==============================] - 3s 36ms/step - loss: 0.1482 - accuracy: 0.9471\n",
            "Epoch 21/100\n",
            "75/75 [==============================] - 3s 37ms/step - loss: 0.1203 - accuracy: 0.9538\n",
            "Epoch 22/100\n",
            "75/75 [==============================] - 3s 46ms/step - loss: 0.0626 - accuracy: 0.9792\n",
            "Epoch 23/100\n",
            "75/75 [==============================] - 3s 36ms/step - loss: 0.0881 - accuracy: 0.9708\n",
            "Epoch 24/100\n",
            "75/75 [==============================] - 3s 36ms/step - loss: 0.0328 - accuracy: 0.9904\n",
            "Epoch 25/100\n",
            "75/75 [==============================] - 3s 35ms/step - loss: 0.0142 - accuracy: 0.9958\n",
            "Epoch 26/100\n",
            "75/75 [==============================] - 3s 36ms/step - loss: 0.0186 - accuracy: 0.9921\n",
            "Epoch 27/100\n",
            "75/75 [==============================] - 3s 39ms/step - loss: 0.0951 - accuracy: 0.9721\n",
            "Epoch 28/100\n",
            "75/75 [==============================] - 3s 36ms/step - loss: 0.0410 - accuracy: 0.9871\n",
            "Epoch 29/100\n",
            "75/75 [==============================] - 3s 36ms/step - loss: 0.0091 - accuracy: 0.9979\n",
            "Epoch 30/100\n",
            "75/75 [==============================] - 3s 36ms/step - loss: 0.0071 - accuracy: 0.9979\n",
            "Epoch 31/100\n",
            "75/75 [==============================] - 3s 37ms/step - loss: 0.0262 - accuracy: 0.9904\n",
            "Epoch 32/100\n",
            "75/75 [==============================] - 3s 41ms/step - loss: 0.0873 - accuracy: 0.9654\n",
            "Epoch 33/100\n",
            "75/75 [==============================] - 3s 36ms/step - loss: 0.0366 - accuracy: 0.9875\n",
            "Epoch 34/100\n",
            "75/75 [==============================] - 3s 36ms/step - loss: 0.0249 - accuracy: 0.9887\n",
            "Epoch 35/100\n",
            "75/75 [==============================] - 3s 36ms/step - loss: 0.0070 - accuracy: 0.9987\n",
            "Epoch 36/100\n",
            "75/75 [==============================] - 3s 37ms/step - loss: 0.0015 - accuracy: 1.0000\n",
            "Epoch 37/100\n",
            "75/75 [==============================] - 3s 44ms/step - loss: 2.2556e-04 - accuracy: 1.0000\n",
            "Epoch 38/100\n",
            "75/75 [==============================] - 3s 39ms/step - loss: 1.4032e-04 - accuracy: 1.0000\n",
            "Epoch 39/100\n",
            "75/75 [==============================] - 3s 36ms/step - loss: 1.1644e-04 - accuracy: 1.0000\n",
            "Epoch 40/100\n",
            "75/75 [==============================] - 3s 35ms/step - loss: 1.0005e-04 - accuracy: 1.0000\n",
            "Epoch 41/100\n",
            "75/75 [==============================] - 3s 38ms/step - loss: 9.7903e-05 - accuracy: 1.0000\n",
            "Epoch 42/100\n",
            "75/75 [==============================] - 3s 39ms/step - loss: 7.3920e-05 - accuracy: 1.0000\n",
            "Epoch 43/100\n",
            "75/75 [==============================] - 3s 35ms/step - loss: 7.3739e-05 - accuracy: 1.0000\n",
            "Epoch 44/100\n",
            "75/75 [==============================] - 3s 35ms/step - loss: 6.7502e-05 - accuracy: 1.0000\n",
            "Epoch 45/100\n",
            "75/75 [==============================] - 3s 36ms/step - loss: 6.5176e-05 - accuracy: 1.0000\n",
            "Epoch 46/100\n",
            "75/75 [==============================] - 3s 37ms/step - loss: 4.3423e-05 - accuracy: 1.0000\n",
            "Epoch 47/100\n",
            "75/75 [==============================] - 3s 39ms/step - loss: 3.6276e-05 - accuracy: 1.0000\n",
            "Epoch 48/100\n",
            "75/75 [==============================] - 3s 35ms/step - loss: 3.8326e-05 - accuracy: 1.0000\n",
            "Epoch 49/100\n",
            "75/75 [==============================] - 3s 36ms/step - loss: 3.2542e-05 - accuracy: 1.0000\n",
            "Epoch 50/100\n",
            "75/75 [==============================] - 3s 35ms/step - loss: 3.4265e-05 - accuracy: 1.0000\n",
            "Epoch 51/100\n",
            "75/75 [==============================] - 3s 37ms/step - loss: 3.6382e-05 - accuracy: 1.0000\n",
            "Epoch 52/100\n",
            "75/75 [==============================] - 3s 39ms/step - loss: 3.1356e-05 - accuracy: 1.0000\n",
            "Epoch 53/100\n",
            "75/75 [==============================] - 3s 35ms/step - loss: 2.7096e-05 - accuracy: 1.0000\n",
            "Epoch 54/100\n",
            "75/75 [==============================] - 3s 36ms/step - loss: 2.5957e-05 - accuracy: 1.0000\n",
            "Epoch 55/100\n",
            "75/75 [==============================] - 3s 35ms/step - loss: 2.4616e-05 - accuracy: 1.0000\n",
            "Epoch 56/100\n",
            "75/75 [==============================] - 3s 37ms/step - loss: 2.0121e-05 - accuracy: 1.0000\n",
            "Epoch 57/100\n",
            "75/75 [==============================] - 3s 39ms/step - loss: 1.7621e-05 - accuracy: 1.0000\n",
            "Epoch 58/100\n",
            "75/75 [==============================] - 3s 36ms/step - loss: 1.5589e-05 - accuracy: 1.0000\n",
            "Epoch 59/100\n",
            "75/75 [==============================] - 3s 36ms/step - loss: 1.8262e-05 - accuracy: 1.0000\n",
            "Epoch 60/100\n",
            "75/75 [==============================] - 3s 35ms/step - loss: 1.9138e-05 - accuracy: 1.0000\n",
            "Epoch 61/100\n",
            "75/75 [==============================] - 3s 38ms/step - loss: 1.8213e-05 - accuracy: 1.0000\n",
            "Epoch 62/100\n",
            "75/75 [==============================] - 3s 39ms/step - loss: 1.6140e-05 - accuracy: 1.0000\n",
            "Epoch 63/100\n",
            "75/75 [==============================] - 3s 36ms/step - loss: 1.2183e-05 - accuracy: 1.0000\n",
            "Epoch 64/100\n",
            "75/75 [==============================] - 3s 35ms/step - loss: 1.5918e-05 - accuracy: 1.0000\n",
            "Epoch 65/100\n",
            "75/75 [==============================] - 3s 36ms/step - loss: 1.4320e-05 - accuracy: 1.0000\n",
            "Epoch 66/100\n",
            "75/75 [==============================] - 3s 37ms/step - loss: 1.5710e-05 - accuracy: 1.0000\n",
            "Epoch 67/100\n",
            "75/75 [==============================] - 3s 38ms/step - loss: 1.3745e-05 - accuracy: 1.0000\n",
            "Epoch 68/100\n",
            "75/75 [==============================] - 3s 35ms/step - loss: 1.2320e-05 - accuracy: 1.0000\n",
            "Epoch 69/100\n",
            "75/75 [==============================] - 3s 36ms/step - loss: 1.0313e-05 - accuracy: 1.0000\n",
            "Epoch 70/100\n",
            "75/75 [==============================] - 3s 36ms/step - loss: 9.4013e-06 - accuracy: 1.0000\n",
            "Epoch 71/100\n",
            "75/75 [==============================] - 3s 38ms/step - loss: 9.5068e-06 - accuracy: 1.0000\n",
            "Epoch 72/100\n",
            "75/75 [==============================] - 3s 38ms/step - loss: 8.3282e-06 - accuracy: 1.0000\n",
            "Epoch 73/100\n",
            "75/75 [==============================] - 3s 36ms/step - loss: 1.0735e-05 - accuracy: 1.0000\n",
            "Epoch 74/100\n",
            "75/75 [==============================] - 3s 35ms/step - loss: 1.0729e-05 - accuracy: 1.0000\n",
            "Epoch 75/100\n",
            "75/75 [==============================] - 3s 35ms/step - loss: 1.0822e-05 - accuracy: 1.0000\n",
            "Epoch 76/100\n",
            "75/75 [==============================] - 3s 38ms/step - loss: 8.0400e-06 - accuracy: 1.0000\n",
            "Epoch 77/100\n",
            "75/75 [==============================] - 3s 39ms/step - loss: 7.8506e-06 - accuracy: 1.0000\n",
            "Epoch 78/100\n",
            "75/75 [==============================] - 3s 36ms/step - loss: 8.1904e-06 - accuracy: 1.0000\n",
            "Epoch 79/100\n",
            "75/75 [==============================] - 3s 36ms/step - loss: 8.6861e-06 - accuracy: 1.0000\n",
            "Epoch 80/100\n",
            "75/75 [==============================] - 3s 36ms/step - loss: 6.9780e-06 - accuracy: 1.0000\n",
            "Epoch 81/100\n",
            "75/75 [==============================] - 3s 38ms/step - loss: 6.7786e-06 - accuracy: 1.0000\n",
            "Epoch 82/100\n",
            "75/75 [==============================] - 3s 38ms/step - loss: 6.2449e-06 - accuracy: 1.0000\n",
            "Epoch 83/100\n",
            "75/75 [==============================] - 3s 36ms/step - loss: 6.5191e-06 - accuracy: 1.0000\n",
            "Epoch 84/100\n",
            "75/75 [==============================] - 3s 36ms/step - loss: 7.5546e-06 - accuracy: 1.0000\n",
            "Epoch 85/100\n",
            "75/75 [==============================] - 3s 36ms/step - loss: 5.7952e-06 - accuracy: 1.0000\n",
            "Epoch 86/100\n",
            "75/75 [==============================] - 3s 43ms/step - loss: 4.3734e-06 - accuracy: 1.0000\n",
            "Epoch 87/100\n",
            "75/75 [==============================] - 3s 45ms/step - loss: 4.0239e-06 - accuracy: 1.0000\n",
            "Epoch 88/100\n",
            "75/75 [==============================] - 3s 36ms/step - loss: 4.2222e-06 - accuracy: 1.0000\n",
            "Epoch 89/100\n",
            "75/75 [==============================] - 3s 36ms/step - loss: 4.0707e-06 - accuracy: 1.0000\n",
            "Epoch 90/100\n",
            "75/75 [==============================] - 3s 36ms/step - loss: 7.0514e-06 - accuracy: 1.0000\n",
            "Epoch 91/100\n",
            "75/75 [==============================] - 3s 36ms/step - loss: 3.5733e-06 - accuracy: 1.0000\n",
            "Epoch 92/100\n",
            "75/75 [==============================] - 3s 41ms/step - loss: 2.9765e-06 - accuracy: 1.0000\n",
            "Epoch 93/100\n",
            "75/75 [==============================] - 3s 36ms/step - loss: 3.9741e-06 - accuracy: 1.0000\n",
            "Epoch 94/100\n",
            "75/75 [==============================] - 3s 36ms/step - loss: 3.1459e-06 - accuracy: 1.0000\n",
            "Epoch 95/100\n",
            "75/75 [==============================] - 3s 36ms/step - loss: 3.5649e-06 - accuracy: 1.0000\n",
            "Epoch 96/100\n",
            "75/75 [==============================] - 3s 36ms/step - loss: 2.5339e-06 - accuracy: 1.0000\n",
            "Epoch 97/100\n",
            "75/75 [==============================] - 3s 40ms/step - loss: 3.3396e-06 - accuracy: 1.0000\n",
            "Epoch 98/100\n",
            "75/75 [==============================] - 3s 36ms/step - loss: 2.9803e-06 - accuracy: 1.0000\n",
            "Epoch 99/100\n",
            "75/75 [==============================] - 3s 36ms/step - loss: 2.8006e-06 - accuracy: 1.0000\n",
            "Epoch 100/100\n",
            "75/75 [==============================] - 3s 35ms/step - loss: 2.3754e-06 - accuracy: 1.0000\n"
          ]
        },
        {
          "output_type": "execute_result",
          "data": {
            "text/plain": [
              "<keras.src.callbacks.History at 0x7a92c432d8a0>"
            ]
          },
          "metadata": {},
          "execution_count": 11
        }
      ]
    },
    {
      "cell_type": "code",
      "source": [
        "\n",
        "# Load and preprocess test data\n",
        "test_images = []\n",
        "test_labels = []\n",
        "\n",
        "test_dir = file_path + '/Testing/'\n",
        "\n",
        "for class_name in classes:\n",
        "    class_dir = os.path.join(test_dir, class_name)\n",
        "    for image_name in os.listdir(class_dir):\n",
        "        image_path = os.path.join(class_dir, image_name)\n",
        "        test_images.append(resize_image(image_path))\n",
        "        test_labels.append(class_name)\n",
        "\n",
        "test_images = np.array(test_images)\n",
        "# Encode class names into numerical labels\n",
        "label_encoder = LabelEncoder()\n",
        "test_labels_encoded = label_encoder.fit_transform(test_labels)\n",
        "\n",
        "# Convert numerical labels to one-hot encoded vectors\n",
        "test_labels = to_categorical(test_labels_encoded, num_classes=3)  # Assuming 3 output classes\n",
        "\n",
        "print(np.shape(test_labels))\n",
        "\n"
      ],
      "metadata": {
        "colab": {
          "base_uri": "https://localhost:8080/"
        },
        "id": "Epv7ta7nC7AR",
        "outputId": "8b70af05-33ff-4a56-cbb4-17f47f270c85"
      },
      "execution_count": 9,
      "outputs": [
        {
          "output_type": "stream",
          "name": "stdout",
          "text": [
            "(250, 3)\n",
            "8/8 [==============================] - 1s 111ms/step\n",
            "Classification Report:\n",
            "               precision    recall  f1-score   support\n",
            "\n",
            "        Poor       0.77      0.84      0.80       105\n",
            "        Good       0.85      0.76      0.81       123\n",
            "   Very Good       0.56      0.64      0.60        22\n",
            "\n",
            "    accuracy                           0.78       250\n",
            "   macro avg       0.73      0.75      0.73       250\n",
            "weighted avg       0.79      0.78      0.79       250\n",
            "\n",
            "Confusion Matrix:\n",
            " [[88 12  5]\n",
            " [23 94  6]\n",
            " [ 4  4 14]]\n"
          ]
        }
      ]
    },
    {
      "cell_type": "code",
      "source": [
        "\n",
        "# Evaluate the model on test data\n",
        "from sklearn.metrics import classification_report, confusion_matrix\n",
        "\n",
        "# Predict probabilities for test data\n",
        "y_pred_prob = model.predict(test_images)\n",
        "# Convert probabilities to class labels\n",
        "y_pred = np.argmax(y_pred_prob, axis=1)\n",
        "# Convert one-hot encoded test labels to class labels\n",
        "y_true = np.argmax(test_labels, axis=1)\n",
        "\n",
        "# Calculate precision, recall, and F1-score\n",
        "report = classification_report(y_true, y_pred, target_names=classes)\n",
        "print(\"Classification Report:\\n\", report)\n",
        "\n",
        "import matplotlib.pyplot as plt\n",
        "import seaborn as sns\n",
        "from sklearn.metrics import confusion_matrix\n",
        "\n",
        "# Calculate confusion matrix\n",
        "cm = confusion_matrix(y_true, y_pred)\n",
        "\n",
        "# Plot confusion matrix as a heatmap\n",
        "plt.figure(figsize=(8, 6))\n",
        "sns.heatmap(cm, annot=True, fmt='d', cmap='Blues', xticklabels=classes, yticklabels=classes)\n",
        "plt.xlabel('Predicted labels')\n",
        "plt.ylabel('True labels')\n",
        "plt.title('Confusion Matrix')\n",
        "plt.show()"
      ],
      "metadata": {
        "colab": {
          "base_uri": "https://localhost:8080/",
          "height": 768
        },
        "id": "1dvGp9eDDOB0",
        "outputId": "2f9316db-6855-4a33-c713-9001a897ae4a"
      },
      "execution_count": 12,
      "outputs": [
        {
          "output_type": "stream",
          "name": "stdout",
          "text": [
            "8/8 [==============================] - 0s 25ms/step\n",
            "Classification Report:\n",
            "               precision    recall  f1-score   support\n",
            "\n",
            "        Poor       0.81      0.82      0.82       105\n",
            "        Good       0.89      0.76      0.82       123\n",
            "   Very Good       0.49      0.86      0.62        22\n",
            "\n",
            "    accuracy                           0.79       250\n",
            "   macro avg       0.73      0.81      0.75       250\n",
            "weighted avg       0.82      0.79      0.80       250\n",
            "\n"
          ]
        },
        {
          "output_type": "display_data",
          "data": {
            "text/plain": [
              "<Figure size 800x600 with 2 Axes>"
            ],
            "image/png": "[encoded data removed]"
          },
          "metadata": {}
        }
      ]
    },
    {
      "cell_type": "code",
      "source": [],
      "metadata": {
        "id": "UDPfPOW-JgUW"
      },
      "execution_count": null,
      "outputs": []
    }
  ]
}